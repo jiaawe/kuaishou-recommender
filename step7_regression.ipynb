{
 "cells": [
  {
   "cell_type": "code",
   "execution_count": 1,
   "id": "5d71ccb2-e617-4190-9c2c-eb2bed4bb2e1",
   "metadata": {},
   "outputs": [],
   "source": [
    "import pandas as pd\n",
    "import statsmodels.api as sm"
   ]
  },
  {
   "cell_type": "markdown",
   "id": "f2d83290-9aad-40dc-9aef-b520fe82160f",
   "metadata": {},
   "source": [
    "# Load Data"
   ]
  },
  {
   "cell_type": "code",
   "execution_count": 2,
   "id": "18127cbe-8ee8-4ebc-b1fd-f4dd429e1a9a",
   "metadata": {},
   "outputs": [],
   "source": [
    "# Define file paths\n",
    "caption_file_path = 'data_exports/recommendations_caption_val_full.csv'\n",
    "random_file_path = 'data_exports/recommendations_random_val_full.csv'\n",
    "ncf_file_path = 'data_exports/w_clustering_batch_size512_num_epochs20_lr0_001_embedding_dim64.csv'\n",
    "val_file_path = 'data_exports/joined_val_data.csv'\n",
    "\n",
    "# Read CSV files into DataFrames\n",
    "caption_df = pd.read_csv(caption_file_path)\n",
    "random_df = pd.read_csv(random_file_path)\n",
    "ncf_df = pd.read_csv(ncf_file_path)\n",
    "val_df = pd.read_csv(val_file_path)"
   ]
  },
  {
   "cell_type": "code",
   "execution_count": 3,
   "id": "5cf3af79-cd67-4925-a711-43abf8d92bd9",
   "metadata": {},
   "outputs": [
    {
     "name": "stdout",
     "output_type": "stream",
     "text": [
      "   user_id  video_id  watch_ratio\n",
      "0       14      8825     0.734829\n",
      "1       14      2739     1.081279\n",
      "2       14      7328     0.430886\n",
      "3       14      2677     0.655448\n",
      "4       14      8773     1.130397\n"
     ]
    }
   ],
   "source": [
    "# Select only the relevant columns from val_df\n",
    "val_df = val_df[['user_id', 'video_id', 'watch_ratio']]\n",
    "\n",
    "# Optionally, check the first few rows to confirm\n",
    "print(val_df.head())"
   ]
  },
  {
   "cell_type": "markdown",
   "id": "0ded1a47-af16-41f7-9bd0-769055ea29a2",
   "metadata": {},
   "source": [
    "# Filter Prediction Datasets Based on Validation Set"
   ]
  },
  {
   "cell_type": "markdown",
   "id": "786d3859-7210-4b25-9659-b2d9b9089b3d",
   "metadata": {},
   "source": [
    "The goal is to align the predictions from each model with the corresponding entries in your validation set. Specifically, we want to ensure that for each (`user_id`, `video_id`) pair in `val_df`, we have the corresponding predictions from each of the three models. This alignment is crucial for an accurate regression analysis to assess the significance and contribution of each model's predictions."
   ]
  },
  {
   "cell_type": "code",
   "execution_count": 4,
   "id": "7f6f94b8-a581-4160-9dd9-a7ec4a0c631a",
   "metadata": {},
   "outputs": [],
   "source": [
    "# Extract unique (user_id, video_id) pairs from the validation set\n",
    "val_pairs = val_df[['user_id', 'video_id']].drop_duplicates()\n",
    "\n",
    "# Merge to filter predictions based on (user_id, video_id) pairs\n",
    "filtered_ncf_df = val_pairs.merge(ncf_df, on=['user_id', 'video_id'], how='left')\n",
    "filtered_caption_df = val_pairs.merge(caption_df, on=['user_id', 'video_id'], how='left')"
   ]
  },
  {
   "cell_type": "code",
   "execution_count": 5,
   "id": "326bb095-588f-4140-bfc6-49bcf5228283",
   "metadata": {},
   "outputs": [
    {
     "data": {
      "text/plain": [
       "(1376299, 3)"
      ]
     },
     "execution_count": 5,
     "metadata": {},
     "output_type": "execute_result"
    }
   ],
   "source": [
    "val_df.shape"
   ]
  },
  {
   "cell_type": "code",
   "execution_count": 6,
   "id": "df560ab9-dc6f-4656-bea5-2ba36658b231",
   "metadata": {},
   "outputs": [
    {
     "data": {
      "text/plain": [
       "(1376299, 4)"
      ]
     },
     "execution_count": 6,
     "metadata": {},
     "output_type": "execute_result"
    }
   ],
   "source": [
    "filtered_ncf_df.shape"
   ]
  },
  {
   "cell_type": "code",
   "execution_count": 7,
   "id": "5a142501-09b9-4440-aca5-67ae96f49915",
   "metadata": {},
   "outputs": [
    {
     "data": {
      "text/plain": [
       "(1376299, 4)"
      ]
     },
     "execution_count": 7,
     "metadata": {},
     "output_type": "execute_result"
    }
   ],
   "source": [
    "filtered_caption_df.shape"
   ]
  },
  {
   "cell_type": "markdown",
   "id": "545d0783-5b18-4347-81b1-4cfea3eb36e0",
   "metadata": {},
   "source": [
    "# Merge Predictions with the Validation Set"
   ]
  },
  {
   "cell_type": "markdown",
   "id": "3c99dfa1-6c73-4fbc-817c-8b060c57fc73",
   "metadata": {},
   "source": [
    "Next, we'll merge the filtered prediction DataFrames with the `val_df` based on both `user_id`and `video_id`. This ensures that we're comparing the correct predictions with the actual values."
   ]
  },
  {
   "cell_type": "code",
   "execution_count": 8,
   "id": "7b8bc9a0-636e-4c89-80cb-1e0647a96d64",
   "metadata": {},
   "outputs": [],
   "source": [
    "# Merge Neural Collaborative Filtering predictions\n",
    "merged_df = val_df.merge(\n",
    "    filtered_ncf_df[['user_id', 'video_id', 'watch_ratio']],\n",
    "    on=['user_id', 'video_id'],\n",
    "    how='left',\n",
    "    suffixes=('', '_ncf')\n",
    ")\n",
    "\n",
    "# Merge Caption based Video Filtering predictions\n",
    "merged_df = merged_df.merge(\n",
    "    filtered_caption_df[['user_id', 'video_id', 'watch_ratio']],\n",
    "    on=['user_id', 'video_id'],\n",
    "    how='left',\n",
    "    suffixes=('', '_caption')\n",
    ")\n",
    "\n",
    "# Rename columns for clarity\n",
    "merged_df.rename(columns={\n",
    "    'watch_ratio': 'watch_ratio_val',\n",
    "    'watch_ratio_ncf': 'watch_ratio_ncf',\n",
    "    'watch_ratio_caption': 'watch_ratio_caption'\n",
    "}, inplace=True)"
   ]
  },
  {
   "cell_type": "code",
   "execution_count": 9,
   "id": "3345fbe8-635c-41a0-9dcf-1800c4401e31",
   "metadata": {},
   "outputs": [
    {
     "name": "stdout",
     "output_type": "stream",
     "text": [
      "Missing values after merging\n",
      "user_id                     0\n",
      "video_id                    0\n",
      "watch_ratio_val             0\n",
      "watch_ratio_ncf        801810\n",
      "watch_ratio_caption         0\n",
      "dtype: int64\n"
     ]
    }
   ],
   "source": [
    "print(\"Missing values after merging\")\n",
    "print(merged_df.isnull().sum())"
   ]
  },
  {
   "cell_type": "markdown",
   "id": "e04161e4-ae0e-4c23-9235-ce9af08d91d2",
   "metadata": {},
   "source": [
    "Since the `Neural Collaborative Filtering (ncf_df)` model only predicts for videos present in the training set, many (`user_id`, `video_id`) pairs in our `val_df` might not have corresponding ncf predictions. \n",
    "\n",
    "In contrast, the Caption-based Video Filtering (`caption_df`) model predicts for all videos, so it should have no missing values in its predictions.\n",
    "\n",
    "Given the substantial number of missing ncf predictions, it's prudent to remove rows with missing `watch_ratio_ncf` to ensure that our regression analysis only includes interactions with available ncf predictions. This approach maintains the integrity of our analysis by focusing on relevant and comparable data points."
   ]
  },
  {
   "cell_type": "code",
   "execution_count": 10,
   "id": "f8bf1413-db5b-428a-9576-f6361a7f3ea6",
   "metadata": {},
   "outputs": [],
   "source": [
    "# Remove rows where 'watch_ratio_ncf' is NaN\n",
    "merged_df = merged_df.dropna(subset=['watch_ratio_ncf'])"
   ]
  },
  {
   "cell_type": "code",
   "execution_count": 11,
   "id": "886cd66f-6083-45b0-b8f2-8b84f6b5c50a",
   "metadata": {},
   "outputs": [
    {
     "name": "stdout",
     "output_type": "stream",
     "text": [
      "Missing values after merging and removing:\n",
      "user_id                0\n",
      "video_id               0\n",
      "watch_ratio_val        0\n",
      "watch_ratio_ncf        0\n",
      "watch_ratio_caption    0\n",
      "dtype: int64\n"
     ]
    }
   ],
   "source": [
    "print(\"Missing values after merging and removing:\")\n",
    "print(merged_df.isnull().sum())"
   ]
  },
  {
   "cell_type": "markdown",
   "id": "a5555d9e-d61b-46ce-9413-ae879bd5d285",
   "metadata": {},
   "source": [
    "# Prepare Data for Regression"
   ]
  },
  {
   "cell_type": "markdown",
   "id": "32d5a1b9-3f97-4627-94ee-d2daae495cd2",
   "metadata": {},
   "source": [
    "We'll set up the independent variables (predictions from the models) and the dependent variable (`watch_ratio_val`) for the regression analysis."
   ]
  },
  {
   "cell_type": "code",
   "execution_count": 12,
   "id": "a9c538ed-47db-474e-8d3c-edf1b2597e32",
   "metadata": {},
   "outputs": [],
   "source": [
    "# Define the independent variables\n",
    "X1 = merged_df[['watch_ratio_ncf', 'watch_ratio_caption']]\n",
    "\n",
    "# Define the dependent variable\n",
    "y1 = merged_df['watch_ratio_val']"
   ]
  },
  {
   "cell_type": "markdown",
   "id": "f8382682-ba50-4ec4-914c-ce57798cc986",
   "metadata": {},
   "source": [
    "# Run the Regression Analysis"
   ]
  },
  {
   "cell_type": "markdown",
   "id": "877306bd-dfd1-47c7-a5a1-67b025f42fdf",
   "metadata": {},
   "source": [
    "Using `statsmodels`, we'll perform an Ordinary Least Squares (OLS) regression to assess the relationship between the model predictions and the actual `watch_ratio`."
   ]
  },
  {
   "cell_type": "code",
   "execution_count": 13,
   "id": "8c0da3aa-7afb-4c02-9363-c76392c30a58",
   "metadata": {},
   "outputs": [
    {
     "name": "stdout",
     "output_type": "stream",
     "text": [
      "\n",
      "Regression: watch_ratio_ncf and watch_ratio_caption\n",
      "                                 OLS Regression Results                                \n",
      "=======================================================================================\n",
      "Dep. Variable:        watch_ratio_val   R-squared (uncentered):                   0.720\n",
      "Model:                            OLS   Adj. R-squared (uncentered):              0.720\n",
      "Method:                 Least Squares   F-statistic:                          7.378e+05\n",
      "Date:                Wed, 13 Nov 2024   Prob (F-statistic):                        0.00\n",
      "Time:                        11:13:46   Log-Likelihood:                     -4.5851e+05\n",
      "No. Observations:              574489   AIC:                                  9.170e+05\n",
      "Df Residuals:                  574487   BIC:                                  9.170e+05\n",
      "Df Model:                           2                                                  \n",
      "Covariance Type:            nonrobust                                                  \n",
      "=======================================================================================\n",
      "                          coef    std err          t      P>|t|      [0.025      0.975]\n",
      "---------------------------------------------------------------------------------------\n",
      "watch_ratio_ncf         0.5552      0.002    262.416      0.000       0.551       0.559\n",
      "watch_ratio_caption     0.1421      0.000    664.628      0.000       0.142       0.143\n",
      "==============================================================================\n",
      "Omnibus:                   220913.196   Durbin-Watson:                   1.763\n",
      "Prob(Omnibus):                  0.000   Jarque-Bera (JB):          1506476.504\n",
      "Skew:                           1.698   Prob(JB):                         0.00\n",
      "Kurtosis:                      10.169   Cond. No.                         13.9\n",
      "==============================================================================\n",
      "\n",
      "Notes:\n",
      "[1] R² is computed without centering (uncentered) since the model does not contain a constant.\n",
      "[2] Standard Errors assume that the covariance matrix of the errors is correctly specified.\n"
     ]
    }
   ],
   "source": [
    "# Fit the OLS regression model for Regression 1\n",
    "model1 = sm.OLS(y1, X1).fit()\n",
    "\n",
    "# Print the regression results summary for Regression 1\n",
    "print(\"\\nRegression: watch_ratio_ncf and watch_ratio_caption\")\n",
    "print(model1.summary())"
   ]
  },
  {
   "cell_type": "code",
   "execution_count": 14,
   "id": "1aa93d0f-eca8-4a51-b64b-a81509e3b2ba",
   "metadata": {},
   "outputs": [
    {
     "data": {
      "text/plain": [
       "watch_ratio_ncf        0.0\n",
       "watch_ratio_caption    0.0\n",
       "dtype: float64"
      ]
     },
     "execution_count": 14,
     "metadata": {},
     "output_type": "execute_result"
    }
   ],
   "source": [
    "# # Access the p-values\n",
    "model1.pvalues"
   ]
  }
 ],
 "metadata": {
  "kernelspec": {
   "display_name": "Python 3 (ipykernel)",
   "language": "python",
   "name": "python3"
  },
  "language_info": {
   "codemirror_mode": {
    "name": "ipython",
    "version": 3
   },
   "file_extension": ".py",
   "mimetype": "text/x-python",
   "name": "python",
   "nbconvert_exporter": "python",
   "pygments_lexer": "ipython3",
   "version": "3.11.9"
  }
 },
 "nbformat": 4,
 "nbformat_minor": 5
}
