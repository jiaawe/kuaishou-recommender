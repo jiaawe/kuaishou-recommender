{
 "cells": [
  {
   "cell_type": "code",
   "execution_count": 3,
   "metadata": {},
   "outputs": [],
   "source": [
    "import pandas as pd\n",
    "import numpy as np\n",
    "\n",
    "from sklearn.metrics import ndcg_score\n",
    "\n",
    "from collections import defaultdict\n",
    "\n",
    "from tqdm import tqdm"
   ]
  },
  {
   "cell_type": "code",
   "execution_count": 4,
   "metadata": {},
   "outputs": [],
   "source": [
    "recommendations_caption = pd.read_csv('recommendations/recommendations_caption.csv', index_col=0)\n",
    "recommendations_random = pd.read_csv('recommendations/recommendations_random.csv', index_col=0)\n",
    "joined_train_data = pd.read_csv('data_exports/joined_train_data.csv')\n",
    "joined_val_data = pd.read_csv('data_exports/joined_val_data.csv')"
   ]
  },
  {
   "cell_type": "code",
   "execution_count": 5,
   "metadata": {},
   "outputs": [],
   "source": [
    "video_data = pd.read_csv('data/kuairec_caption_category_translated.csv', index_col=0)"
   ]
  },
  {
   "cell_type": "code",
   "execution_count": 6,
   "metadata": {},
   "outputs": [],
   "source": [
    "_, n_videos = recommendations_caption.shape"
   ]
  },
  {
   "cell_type": "code",
   "execution_count": 8,
   "metadata": {},
   "outputs": [],
   "source": [
    "videos_watched_before = {}\n",
    "\n",
    "for index, row in joined_train_data.iterrows():\n",
    "    user_id = row['user_id']\n",
    "    video_id = row['video_id']\n",
    "    if user_id not in videos_watched_before:\n",
    "        videos_watched_before[user_id] = set()\n",
    "    videos_watched_before[user_id].add(video_id)"
   ]
  },
  {
   "cell_type": "code",
   "execution_count": 9,
   "metadata": {},
   "outputs": [],
   "source": [
    "ground_truth = {}"
   ]
  },
  {
   "cell_type": "code",
   "execution_count": 10,
   "metadata": {},
   "outputs": [],
   "source": [
    "for user in videos_watched_before:\n",
    "    ground_truth[user] = np.zeros(n_videos)\n",
    "\n",
    "for index, row in joined_val_data.iterrows():\n",
    "    user_id = row['user_id']\n",
    "    video_id = row['video_id']\n",
    "    watch_ratio = row['watch_ratio']\n",
    "    if video_id not in videos_watched_before[user_id]:\n",
    "        ground_truth[user_id][video_id] = watch_ratio"
   ]
  },
  {
   "cell_type": "code",
   "execution_count": 11,
   "metadata": {},
   "outputs": [],
   "source": [
    "ground_truth_df = pd.DataFrame.from_dict(ground_truth, orient='index')"
   ]
  },
  {
   "cell_type": "code",
   "execution_count": 12,
   "metadata": {},
   "outputs": [],
   "source": [
    "ground_truth_df.to_csv('recommendations/ground_truth_val.csv')"
   ]
  },
  {
   "cell_type": "code",
   "execution_count": 7,
   "metadata": {},
   "outputs": [],
   "source": [
    "ground_truth_df = pd.read_csv('recommendations/ground_truth_val.csv', index_col=0)"
   ]
  },
  {
   "cell_type": "code",
   "execution_count": 8,
   "metadata": {},
   "outputs": [],
   "source": [
    "k = 50"
   ]
  },
  {
   "cell_type": "code",
   "execution_count": 11,
   "metadata": {},
   "outputs": [],
   "source": [
    "def get_top_k_for_user(recommendations, user_id):\n",
    "    return recommendations.loc[user_id].sort_values(ascending=False).head(k).index\n",
    "\n",
    "def get_category_tally_at_k(recommendations, user_id):\n",
    "    top_k = get_top_k_for_user(recommendations, user_id)\n",
    "    tally = defaultdict(int)\n",
    "\n",
    "    for video_id in top_k:\n",
    "        category = video_data.loc[video_id]['english_first_level_category_name']\n",
    "        # tally[category] += joined_val_data[joined_val_data['user_id'] == user_id & joined_val_data['video_id'] == video_id]['watch_ratio'].values[0]\n",
    "        tally[category] += 1\n",
    "    \n",
    "    return tally\n",
    "\n",
    "def get_category_ndcg_at_k(recommendations, user_id):\n",
    "    cat_tally_reco = get_category_tally_at_k(recommendations, user_id)\n",
    "    cat_tally_gt = get_category_tally_at_k(ground_truth_df, user_id)\n",
    "\n",
    "    cat_tally_reco_adjusted = {}\n",
    "    for category in cat_tally_gt:\n",
    "        cat_tally_reco_adjusted[category] = cat_tally_reco.get(category, 0)\n",
    "\n",
    "    return ndcg_score([list(cat_tally_gt.values())], [list(cat_tally_reco_adjusted.values())])\n",
    "\n",
    "def get_average_ndcg_at_k(recommendations):\n",
    "    ndcg_scores = []\n",
    "\n",
    "    for user_id in tqdm(ground_truth_df.index):\n",
    "        ndcg_scores.append(get_category_ndcg_at_k(recommendations, user_id))\n",
    "\n",
    "    return np.mean(ndcg_scores)"
   ]
  },
  {
   "cell_type": "code",
   "execution_count": 21,
   "metadata": {},
   "outputs": [
    {
     "name": "stderr",
     "output_type": "stream",
     "text": [
      "100%|██████████| 1411/1411 [00:34<00:00, 40.35it/s]\n"
     ]
    },
    {
     "name": "stdout",
     "output_type": "stream",
     "text": [
      "0.7656175572142835\n"
     ]
    },
    {
     "name": "stderr",
     "output_type": "stream",
     "text": [
      "100%|██████████| 1411/1411 [00:35<00:00, 40.27it/s]"
     ]
    },
    {
     "name": "stdout",
     "output_type": "stream",
     "text": [
      "0.7778655954786724\n"
     ]
    },
    {
     "name": "stderr",
     "output_type": "stream",
     "text": [
      "\n"
     ]
    }
   ],
   "source": [
    "print(get_average_ndcg_at_k(recommendations_caption))\n",
    "print(get_average_ndcg_at_k(recommendations_random))"
   ]
  },
  {
   "cell_type": "code",
   "execution_count": 12,
   "metadata": {},
   "outputs": [],
   "source": [
    "def get_distinct_categories_at_k(recommendations, user_id):\n",
    "    top_k = get_top_k_for_user(recommendations, user_id)\n",
    "    categories = set()\n",
    "\n",
    "    for video_id in top_k:\n",
    "        category = video_data.loc[video_id]['english_first_level_category_name']\n",
    "        categories.add(category)\n",
    "    \n",
    "    return len(categories)\n",
    "\n",
    "def get_average_distinct_categories_at_k(recommendations):\n",
    "    distinct_categories = []\n",
    "\n",
    "    for user_id in tqdm(ground_truth_df.index):\n",
    "        distinct_categories.append(get_distinct_categories_at_k(recommendations, user_id))\n",
    "\n",
    "    return np.mean(distinct_categories)"
   ]
  },
  {
   "cell_type": "code",
   "execution_count": 13,
   "metadata": {},
   "outputs": [
    {
     "name": "stderr",
     "output_type": "stream",
     "text": [
      "100%|██████████| 1411/1411 [00:17<00:00, 81.35it/s]\n"
     ]
    },
    {
     "name": "stdout",
     "output_type": "stream",
     "text": [
      "14.472005669737774\n"
     ]
    },
    {
     "name": "stderr",
     "output_type": "stream",
     "text": [
      "100%|██████████| 1411/1411 [00:17<00:00, 81.37it/s]"
     ]
    },
    {
     "name": "stdout",
     "output_type": "stream",
     "text": [
      "22.08433734939759\n"
     ]
    },
    {
     "name": "stderr",
     "output_type": "stream",
     "text": [
      "\n"
     ]
    }
   ],
   "source": [
    "print(get_average_distinct_categories_at_k(recommendations_caption))\n",
    "print(get_average_distinct_categories_at_k(recommendations_random))"
   ]
  },
  {
   "cell_type": "code",
   "execution_count": 14,
   "metadata": {},
   "outputs": [],
   "source": [
    "def get_avg_watch_ratio_at_k(recommendations, user_id):\n",
    "    top_k = get_top_k_for_user(recommendations, user_id)\n",
    "    watch_ratios = []\n",
    "\n",
    "    for video_id in top_k:\n",
    "        watch_ratios.append(ground_truth_df.loc[user_id][video_id])\n",
    "    \n",
    "    return np.mean(watch_ratios)\n",
    "\n",
    "def get_average_watch_ratio_at_k(recommendations):\n",
    "    watch_ratios = []\n",
    "\n",
    "    for user_id in tqdm(ground_truth_df.index):\n",
    "        watch_ratios.append(get_avg_watch_ratio_at_k(recommendations, user_id))\n",
    "\n",
    "    return np.mean(watch_ratios)"
   ]
  },
  {
   "cell_type": "code",
   "execution_count": 15,
   "metadata": {},
   "outputs": [
    {
     "name": "stderr",
     "output_type": "stream",
     "text": [
      "100%|██████████| 1411/1411 [00:03<00:00, 446.95it/s]\n"
     ]
    },
    {
     "name": "stdout",
     "output_type": "stream",
     "text": [
      "0.12574325081395435\n"
     ]
    },
    {
     "name": "stderr",
     "output_type": "stream",
     "text": [
      "100%|██████████| 1411/1411 [00:03<00:00, 451.69it/s]"
     ]
    },
    {
     "name": "stdout",
     "output_type": "stream",
     "text": [
      "0.08868784814552783\n"
     ]
    },
    {
     "name": "stderr",
     "output_type": "stream",
     "text": [
      "\n"
     ]
    }
   ],
   "source": [
    "print(get_average_watch_ratio_at_k(recommendations_caption))\n",
    "print(get_average_watch_ratio_at_k(recommendations_random))"
   ]
  },
  {
   "cell_type": "code",
   "execution_count": 16,
   "metadata": {},
   "outputs": [],
   "source": [
    "threshold = 0.7"
   ]
  },
  {
   "cell_type": "code",
   "execution_count": 19,
   "metadata": {},
   "outputs": [],
   "source": [
    "def precision_recall_f1_at_k(recommendations, user_id):\n",
    "    top_k = get_top_k_for_user(recommendations, user_id)\n",
    "    tp = 0\n",
    "    \n",
    "    for video_id in top_k:\n",
    "        if ground_truth_df.loc[user_id][video_id] > threshold:\n",
    "            tp += 1\n",
    "    \n",
    "    precision = tp / k\n",
    "\n",
    "    recall = tp / np.sum(ground_truth_df.loc[user_id] > threshold)\n",
    "\n",
    "    f1 = 2 * precision * recall / (precision + recall) if precision + recall > 0 else 0\n",
    "\n",
    "    return precision, recall, f1\n",
    "\n",
    "def get_average_precision_recall_f1_at_k(recommendations):\n",
    "    precisions = []\n",
    "    recalls = []\n",
    "    f1s = []\n",
    "\n",
    "    for user_id in tqdm(ground_truth_df.index):\n",
    "        precision, recall, f1 = precision_recall_f1_at_k(recommendations, user_id)\n",
    "        precisions.append(precision)\n",
    "        recalls.append(recall)\n",
    "        f1s.append(f1)\n",
    "\n",
    "    return np.mean(precisions), np.mean(recalls), np.mean(f1s)"
   ]
  },
  {
   "cell_type": "code",
   "execution_count": 20,
   "metadata": {},
   "outputs": [
    {
     "name": "stderr",
     "output_type": "stream",
     "text": [
      "100%|██████████| 1411/1411 [00:03<00:00, 407.04it/s]\n"
     ]
    },
    {
     "name": "stdout",
     "output_type": "stream",
     "text": [
      "(0.07980155917788802, 0.007808810297744872, 0.014148214169573906)\n"
     ]
    },
    {
     "name": "stderr",
     "output_type": "stream",
     "text": [
      "100%|██████████| 1411/1411 [00:03<00:00, 418.57it/s]"
     ]
    },
    {
     "name": "stdout",
     "output_type": "stream",
     "text": [
      "(0.05705173635719348, 0.005584977462673443, 0.010117640070494816)\n"
     ]
    },
    {
     "name": "stderr",
     "output_type": "stream",
     "text": [
      "\n"
     ]
    }
   ],
   "source": [
    "print(get_average_precision_recall_f1_at_k(recommendations_caption))\n",
    "print(get_average_precision_recall_f1_at_k(recommendations_random))"
   ]
  },
  {
   "cell_type": "code",
   "execution_count": 34,
   "metadata": {},
   "outputs": [],
   "source": [
    "# joined_val_data['watch_ratio'].mean()\n",
    "# joined_val_data['watch_ratio'].median()\n",
    "\n",
    "x = ground_truth_df.loc[14]"
   ]
  },
  {
   "cell_type": "code",
   "execution_count": null,
   "metadata": {},
   "outputs": [
    {
     "name": "stdout",
     "output_type": "stream",
     "text": [
      "557\n",
      "854\n"
     ]
    }
   ],
   "source": [
    "below_threshold = 0\n",
    "above_threshold = 0\n",
    "\n",
    "# for each row in ground_truth_df\n",
    "for index, row in ground_truth_df.iterrows():\n",
    "    # get the row\n",
    "    x = row\n",
    "    # get the number of non-zero values\n",
    "    y = x[x > 0.0]\n",
    "\n",
    "    if y.median() < 0.7:\n",
    "        below_threshold += 1\n",
    "    else:\n",
    "        above_threshold += 1\n",
    "\n",
    "print(below_threshold)\n",
    "print(above_threshold)"
   ]
  },
  {
   "cell_type": "code",
   "execution_count": 44,
   "metadata": {},
   "outputs": [
    {
     "data": {
      "text/html": [
       "<div>\n",
       "<style scoped>\n",
       "    .dataframe tbody tr th:only-of-type {\n",
       "        vertical-align: middle;\n",
       "    }\n",
       "\n",
       "    .dataframe tbody tr th {\n",
       "        vertical-align: top;\n",
       "    }\n",
       "\n",
       "    .dataframe thead th {\n",
       "        text-align: right;\n",
       "    }\n",
       "</style>\n",
       "<table border=\"1\" class=\"dataframe\">\n",
       "  <thead>\n",
       "    <tr style=\"text-align: right;\">\n",
       "      <th></th>\n",
       "      <th>0</th>\n",
       "      <th>1</th>\n",
       "      <th>2</th>\n",
       "      <th>3</th>\n",
       "      <th>4</th>\n",
       "      <th>5</th>\n",
       "      <th>6</th>\n",
       "      <th>7</th>\n",
       "      <th>8</th>\n",
       "      <th>9</th>\n",
       "      <th>...</th>\n",
       "      <th>10718</th>\n",
       "      <th>10719</th>\n",
       "      <th>10720</th>\n",
       "      <th>10721</th>\n",
       "      <th>10722</th>\n",
       "      <th>10723</th>\n",
       "      <th>10724</th>\n",
       "      <th>10725</th>\n",
       "      <th>10726</th>\n",
       "      <th>10727</th>\n",
       "    </tr>\n",
       "  </thead>\n",
       "  <tbody>\n",
       "    <tr>\n",
       "      <th>14</th>\n",
       "      <td>4.729524</td>\n",
       "      <td>4.584302</td>\n",
       "      <td>4.756215</td>\n",
       "      <td>4.663043</td>\n",
       "      <td>4.538526</td>\n",
       "      <td>4.487528</td>\n",
       "      <td>4.770037</td>\n",
       "      <td>4.710154</td>\n",
       "      <td>4.346988</td>\n",
       "      <td>4.625941</td>\n",
       "      <td>...</td>\n",
       "      <td>4.579754</td>\n",
       "      <td>4.667784</td>\n",
       "      <td>4.751176</td>\n",
       "      <td>4.318532</td>\n",
       "      <td>4.695892</td>\n",
       "      <td>4.791679</td>\n",
       "      <td>4.605528</td>\n",
       "      <td>4.630749</td>\n",
       "      <td>4.624801</td>\n",
       "      <td>4.688878</td>\n",
       "    </tr>\n",
       "    <tr>\n",
       "      <th>19</th>\n",
       "      <td>4.725050</td>\n",
       "      <td>4.580030</td>\n",
       "      <td>4.752950</td>\n",
       "      <td>4.664137</td>\n",
       "      <td>4.541591</td>\n",
       "      <td>4.490345</td>\n",
       "      <td>4.769165</td>\n",
       "      <td>4.710895</td>\n",
       "      <td>4.352001</td>\n",
       "      <td>4.621956</td>\n",
       "      <td>...</td>\n",
       "      <td>4.585726</td>\n",
       "      <td>4.672139</td>\n",
       "      <td>4.750876</td>\n",
       "      <td>4.322028</td>\n",
       "      <td>4.698574</td>\n",
       "      <td>4.792092</td>\n",
       "      <td>4.610422</td>\n",
       "      <td>4.626287</td>\n",
       "      <td>4.627770</td>\n",
       "      <td>4.692447</td>\n",
       "    </tr>\n",
       "    <tr>\n",
       "      <th>21</th>\n",
       "      <td>4.728531</td>\n",
       "      <td>4.581941</td>\n",
       "      <td>4.753937</td>\n",
       "      <td>4.665498</td>\n",
       "      <td>4.545474</td>\n",
       "      <td>4.493424</td>\n",
       "      <td>4.769598</td>\n",
       "      <td>4.711306</td>\n",
       "      <td>4.353521</td>\n",
       "      <td>4.623811</td>\n",
       "      <td>...</td>\n",
       "      <td>4.586579</td>\n",
       "      <td>4.672764</td>\n",
       "      <td>4.749549</td>\n",
       "      <td>4.323714</td>\n",
       "      <td>4.701213</td>\n",
       "      <td>4.790397</td>\n",
       "      <td>4.609851</td>\n",
       "      <td>4.629597</td>\n",
       "      <td>4.629031</td>\n",
       "      <td>4.694502</td>\n",
       "    </tr>\n",
       "    <tr>\n",
       "      <th>23</th>\n",
       "      <td>4.721708</td>\n",
       "      <td>4.578430</td>\n",
       "      <td>4.751675</td>\n",
       "      <td>4.661883</td>\n",
       "      <td>4.545264</td>\n",
       "      <td>4.492078</td>\n",
       "      <td>4.766811</td>\n",
       "      <td>4.710204</td>\n",
       "      <td>4.359156</td>\n",
       "      <td>4.620590</td>\n",
       "      <td>...</td>\n",
       "      <td>4.589119</td>\n",
       "      <td>4.674706</td>\n",
       "      <td>4.747270</td>\n",
       "      <td>4.327264</td>\n",
       "      <td>4.700509</td>\n",
       "      <td>4.788663</td>\n",
       "      <td>4.610827</td>\n",
       "      <td>4.625542</td>\n",
       "      <td>4.630556</td>\n",
       "      <td>4.694591</td>\n",
       "    </tr>\n",
       "    <tr>\n",
       "      <th>24</th>\n",
       "      <td>4.721366</td>\n",
       "      <td>4.582058</td>\n",
       "      <td>4.751916</td>\n",
       "      <td>4.659609</td>\n",
       "      <td>4.540278</td>\n",
       "      <td>4.492656</td>\n",
       "      <td>4.767325</td>\n",
       "      <td>4.710432</td>\n",
       "      <td>4.352440</td>\n",
       "      <td>4.623292</td>\n",
       "      <td>...</td>\n",
       "      <td>4.583630</td>\n",
       "      <td>4.671717</td>\n",
       "      <td>4.749989</td>\n",
       "      <td>4.321323</td>\n",
       "      <td>4.695777</td>\n",
       "      <td>4.789942</td>\n",
       "      <td>4.611082</td>\n",
       "      <td>4.626125</td>\n",
       "      <td>4.626337</td>\n",
       "      <td>4.689455</td>\n",
       "    </tr>\n",
       "    <tr>\n",
       "      <th>...</th>\n",
       "      <td>...</td>\n",
       "      <td>...</td>\n",
       "      <td>...</td>\n",
       "      <td>...</td>\n",
       "      <td>...</td>\n",
       "      <td>...</td>\n",
       "      <td>...</td>\n",
       "      <td>...</td>\n",
       "      <td>...</td>\n",
       "      <td>...</td>\n",
       "      <td>...</td>\n",
       "      <td>...</td>\n",
       "      <td>...</td>\n",
       "      <td>...</td>\n",
       "      <td>...</td>\n",
       "      <td>...</td>\n",
       "      <td>...</td>\n",
       "      <td>...</td>\n",
       "      <td>...</td>\n",
       "      <td>...</td>\n",
       "      <td>...</td>\n",
       "    </tr>\n",
       "    <tr>\n",
       "      <th>7142</th>\n",
       "      <td>4.727670</td>\n",
       "      <td>4.584960</td>\n",
       "      <td>4.753845</td>\n",
       "      <td>4.661369</td>\n",
       "      <td>4.536234</td>\n",
       "      <td>4.489650</td>\n",
       "      <td>4.768251</td>\n",
       "      <td>4.710023</td>\n",
       "      <td>4.345253</td>\n",
       "      <td>4.625865</td>\n",
       "      <td>...</td>\n",
       "      <td>4.577229</td>\n",
       "      <td>4.665365</td>\n",
       "      <td>4.751517</td>\n",
       "      <td>4.319022</td>\n",
       "      <td>4.691820</td>\n",
       "      <td>4.791328</td>\n",
       "      <td>4.606975</td>\n",
       "      <td>4.628138</td>\n",
       "      <td>4.622860</td>\n",
       "      <td>4.685365</td>\n",
       "    </tr>\n",
       "    <tr>\n",
       "      <th>7147</th>\n",
       "      <td>4.730193</td>\n",
       "      <td>4.586308</td>\n",
       "      <td>4.753086</td>\n",
       "      <td>4.660717</td>\n",
       "      <td>4.538314</td>\n",
       "      <td>4.492768</td>\n",
       "      <td>4.770465</td>\n",
       "      <td>4.714970</td>\n",
       "      <td>4.347666</td>\n",
       "      <td>4.627142</td>\n",
       "      <td>...</td>\n",
       "      <td>4.579386</td>\n",
       "      <td>4.670721</td>\n",
       "      <td>4.753055</td>\n",
       "      <td>4.318561</td>\n",
       "      <td>4.696995</td>\n",
       "      <td>4.793811</td>\n",
       "      <td>4.612500</td>\n",
       "      <td>4.627772</td>\n",
       "      <td>4.622376</td>\n",
       "      <td>4.690160</td>\n",
       "    </tr>\n",
       "    <tr>\n",
       "      <th>7153</th>\n",
       "      <td>4.728416</td>\n",
       "      <td>4.582655</td>\n",
       "      <td>4.753454</td>\n",
       "      <td>4.660882</td>\n",
       "      <td>4.544476</td>\n",
       "      <td>4.496172</td>\n",
       "      <td>4.768706</td>\n",
       "      <td>4.712557</td>\n",
       "      <td>4.354093</td>\n",
       "      <td>4.623998</td>\n",
       "      <td>...</td>\n",
       "      <td>4.586230</td>\n",
       "      <td>4.673282</td>\n",
       "      <td>4.749466</td>\n",
       "      <td>4.323827</td>\n",
       "      <td>4.701179</td>\n",
       "      <td>4.791043</td>\n",
       "      <td>4.612863</td>\n",
       "      <td>4.628379</td>\n",
       "      <td>4.627998</td>\n",
       "      <td>4.694418</td>\n",
       "    </tr>\n",
       "    <tr>\n",
       "      <th>7159</th>\n",
       "      <td>4.723734</td>\n",
       "      <td>4.582644</td>\n",
       "      <td>4.752858</td>\n",
       "      <td>4.658630</td>\n",
       "      <td>4.538820</td>\n",
       "      <td>4.492357</td>\n",
       "      <td>4.767504</td>\n",
       "      <td>4.710072</td>\n",
       "      <td>4.351875</td>\n",
       "      <td>4.623766</td>\n",
       "      <td>...</td>\n",
       "      <td>4.581780</td>\n",
       "      <td>4.670050</td>\n",
       "      <td>4.749933</td>\n",
       "      <td>4.323838</td>\n",
       "      <td>4.694909</td>\n",
       "      <td>4.790268</td>\n",
       "      <td>4.610851</td>\n",
       "      <td>4.626533</td>\n",
       "      <td>4.625298</td>\n",
       "      <td>4.688614</td>\n",
       "    </tr>\n",
       "    <tr>\n",
       "      <th>7162</th>\n",
       "      <td>4.728944</td>\n",
       "      <td>4.579784</td>\n",
       "      <td>4.752167</td>\n",
       "      <td>4.661530</td>\n",
       "      <td>4.543120</td>\n",
       "      <td>4.493210</td>\n",
       "      <td>4.767413</td>\n",
       "      <td>4.710998</td>\n",
       "      <td>4.353690</td>\n",
       "      <td>4.621084</td>\n",
       "      <td>...</td>\n",
       "      <td>4.583658</td>\n",
       "      <td>4.671155</td>\n",
       "      <td>4.749065</td>\n",
       "      <td>4.323655</td>\n",
       "      <td>4.699593</td>\n",
       "      <td>4.789982</td>\n",
       "      <td>4.609731</td>\n",
       "      <td>4.625280</td>\n",
       "      <td>4.627133</td>\n",
       "      <td>4.693023</td>\n",
       "    </tr>\n",
       "  </tbody>\n",
       "</table>\n",
       "<p>1411 rows × 10728 columns</p>\n",
       "</div>"
      ],
      "text/plain": [
       "             0         1         2         3         4         5         6  \\\n",
       "14    4.729524  4.584302  4.756215  4.663043  4.538526  4.487528  4.770037   \n",
       "19    4.725050  4.580030  4.752950  4.664137  4.541591  4.490345  4.769165   \n",
       "21    4.728531  4.581941  4.753937  4.665498  4.545474  4.493424  4.769598   \n",
       "23    4.721708  4.578430  4.751675  4.661883  4.545264  4.492078  4.766811   \n",
       "24    4.721366  4.582058  4.751916  4.659609  4.540278  4.492656  4.767325   \n",
       "...        ...       ...       ...       ...       ...       ...       ...   \n",
       "7142  4.727670  4.584960  4.753845  4.661369  4.536234  4.489650  4.768251   \n",
       "7147  4.730193  4.586308  4.753086  4.660717  4.538314  4.492768  4.770465   \n",
       "7153  4.728416  4.582655  4.753454  4.660882  4.544476  4.496172  4.768706   \n",
       "7159  4.723734  4.582644  4.752858  4.658630  4.538820  4.492357  4.767504   \n",
       "7162  4.728944  4.579784  4.752167  4.661530  4.543120  4.493210  4.767413   \n",
       "\n",
       "             7         8         9  ...     10718     10719     10720  \\\n",
       "14    4.710154  4.346988  4.625941  ...  4.579754  4.667784  4.751176   \n",
       "19    4.710895  4.352001  4.621956  ...  4.585726  4.672139  4.750876   \n",
       "21    4.711306  4.353521  4.623811  ...  4.586579  4.672764  4.749549   \n",
       "23    4.710204  4.359156  4.620590  ...  4.589119  4.674706  4.747270   \n",
       "24    4.710432  4.352440  4.623292  ...  4.583630  4.671717  4.749989   \n",
       "...        ...       ...       ...  ...       ...       ...       ...   \n",
       "7142  4.710023  4.345253  4.625865  ...  4.577229  4.665365  4.751517   \n",
       "7147  4.714970  4.347666  4.627142  ...  4.579386  4.670721  4.753055   \n",
       "7153  4.712557  4.354093  4.623998  ...  4.586230  4.673282  4.749466   \n",
       "7159  4.710072  4.351875  4.623766  ...  4.581780  4.670050  4.749933   \n",
       "7162  4.710998  4.353690  4.621084  ...  4.583658  4.671155  4.749065   \n",
       "\n",
       "         10721     10722     10723     10724     10725     10726     10727  \n",
       "14    4.318532  4.695892  4.791679  4.605528  4.630749  4.624801  4.688878  \n",
       "19    4.322028  4.698574  4.792092  4.610422  4.626287  4.627770  4.692447  \n",
       "21    4.323714  4.701213  4.790397  4.609851  4.629597  4.629031  4.694502  \n",
       "23    4.327264  4.700509  4.788663  4.610827  4.625542  4.630556  4.694591  \n",
       "24    4.321323  4.695777  4.789942  4.611082  4.626125  4.626337  4.689455  \n",
       "...        ...       ...       ...       ...       ...       ...       ...  \n",
       "7142  4.319022  4.691820  4.791328  4.606975  4.628138  4.622860  4.685365  \n",
       "7147  4.318561  4.696995  4.793811  4.612500  4.627772  4.622376  4.690160  \n",
       "7153  4.323827  4.701179  4.791043  4.612863  4.628379  4.627998  4.694418  \n",
       "7159  4.323838  4.694909  4.790268  4.610851  4.626533  4.625298  4.688614  \n",
       "7162  4.323655  4.699593  4.789982  4.609731  4.625280  4.627133  4.693023  \n",
       "\n",
       "[1411 rows x 10728 columns]"
      ]
     },
     "execution_count": 44,
     "metadata": {},
     "output_type": "execute_result"
    }
   ],
   "source": [
    "recommendations_caption"
   ]
  },
  {
   "cell_type": "code",
   "execution_count": null,
   "metadata": {},
   "outputs": [],
   "source": []
  }
 ],
 "metadata": {
  "kernelspec": {
   "display_name": "base",
   "language": "python",
   "name": "python3"
  },
  "language_info": {
   "codemirror_mode": {
    "name": "ipython",
    "version": 3
   },
   "file_extension": ".py",
   "mimetype": "text/x-python",
   "name": "python",
   "nbconvert_exporter": "python",
   "pygments_lexer": "ipython3",
   "version": "3.11.7"
  }
 },
 "nbformat": 4,
 "nbformat_minor": 2
}
