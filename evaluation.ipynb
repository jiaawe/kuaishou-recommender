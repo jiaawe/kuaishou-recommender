{
 "cells": [
  {
   "cell_type": "code",
   "execution_count": 24,
   "metadata": {},
   "outputs": [],
   "source": [
    "import pandas as pd\n",
    "import numpy as np"
   ]
  },
  {
   "cell_type": "code",
   "execution_count": 69,
   "metadata": {},
   "outputs": [],
   "source": [
    "recommendations_caption = pd.read_csv('recommendations/recommendations_caption.csv', index_col=0)\n",
    "recommendations_random = pd.read_csv('recommendations/recommendations_random.csv', index_col=0)\n",
    "joined_train_data = pd.read_csv('data_exports/joined_train_data.csv')\n",
    "joined_val_data = pd.read_csv('data_exports/joined_val_data.csv')"
   ]
  },
  {
   "cell_type": "code",
   "execution_count": 70,
   "metadata": {},
   "outputs": [],
   "source": [
    "_, n_videos = recommendations_caption.shape"
   ]
  },
  {
   "cell_type": "code",
   "execution_count": 71,
   "metadata": {},
   "outputs": [],
   "source": [
    "videos_watched_before = {}\n",
    "\n",
    "for index, row in joined_train_data.iterrows():\n",
    "    user_id = row['user_id']\n",
    "    video_id = row['video_id']\n",
    "    if user_id not in videos_watched_before:\n",
    "        videos_watched_before[user_id] = set()\n",
    "    videos_watched_before[user_id].add(video_id)"
   ]
  },
  {
   "cell_type": "code",
   "execution_count": 72,
   "metadata": {},
   "outputs": [],
   "source": [
    "ground_truth = {}"
   ]
  },
  {
   "cell_type": "code",
   "execution_count": 73,
   "metadata": {},
   "outputs": [],
   "source": [
    "for user in videos_watched_before:\n",
    "    ground_truth[user] = np.zeros(n_videos)\n",
    "\n",
    "for index, row in joined_val_data.iterrows():\n",
    "    user_id = row['user_id']\n",
    "    video_id = row['video_id']\n",
    "    watch_ratio = row['watch_ratio']\n",
    "    if video_id not in videos_watched_before[user_id]:\n",
    "        ground_truth[user_id][video_id] = watch_ratio"
   ]
  },
  {
   "cell_type": "code",
   "execution_count": 74,
   "metadata": {},
   "outputs": [],
   "source": [
    "ground_truth_df = pd.DataFrame.from_dict(ground_truth, orient='index')"
   ]
  },
  {
   "cell_type": "code",
   "execution_count": 75,
   "metadata": {},
   "outputs": [],
   "source": [
    "from sklearn.metrics import ndcg_score"
   ]
  },
  {
   "cell_type": "code",
   "execution_count": 83,
   "metadata": {},
   "outputs": [
    {
     "data": {
      "text/plain": [
       "0.0942130988517688"
      ]
     },
     "execution_count": 83,
     "metadata": {},
     "output_type": "execute_result"
    }
   ],
   "source": [
    "ndcg_score(ground_truth_df, recommendations_random, k=1000)"
   ]
  },
  {
   "cell_type": "code",
   "execution_count": 84,
   "metadata": {},
   "outputs": [
    {
     "data": {
      "text/plain": [
       "0.12400511738717104"
      ]
     },
     "execution_count": 84,
     "metadata": {},
     "output_type": "execute_result"
    }
   ],
   "source": [
    "ndcg_score(ground_truth_df, recommendations_caption, k=1000)"
   ]
  },
  {
   "cell_type": "code",
   "execution_count": null,
   "metadata": {},
   "outputs": [],
   "source": []
  }
 ],
 "metadata": {
  "kernelspec": {
   "display_name": "base",
   "language": "python",
   "name": "python3"
  },
  "language_info": {
   "codemirror_mode": {
    "name": "ipython",
    "version": 3
   },
   "file_extension": ".py",
   "mimetype": "text/x-python",
   "name": "python",
   "nbconvert_exporter": "python",
   "pygments_lexer": "ipython3",
   "version": "3.11.7"
  }
 },
 "nbformat": 4,
 "nbformat_minor": 2
}
