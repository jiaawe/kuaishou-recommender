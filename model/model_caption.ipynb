{
 "cells": [
  {
   "cell_type": "code",
   "execution_count": 63,
   "metadata": {},
   "outputs": [],
   "source": [
    "import pandas as pd\n",
    "import numpy as np\n",
    "from numpy.linalg import norm"
   ]
  },
  {
   "cell_type": "code",
   "execution_count": 2,
   "metadata": {},
   "outputs": [],
   "source": [
    "rootpath = \"../KuaiRec 2.0/\""
   ]
  },
  {
   "cell_type": "code",
   "execution_count": 35,
   "metadata": {},
   "outputs": [
    {
     "name": "stderr",
     "output_type": "stream",
     "text": [
      "/tmp/ipykernel_203372/2534353978.py:6: SettingWithCopyWarning: \n",
      "A value is trying to be set on a copy of a slice from a DataFrame.\n",
      "Try using .loc[row_indexer,col_indexer] = value instead\n",
      "\n",
      "See the caveats in the documentation: https://pandas.pydata.org/pandas-docs/stable/user_guide/indexing.html#returning-a-view-versus-a-copy\n",
      "  captions_english[\"all_english\"] = captions_english[english_cols].fillna(\"\").apply(lambda x: \"<CONCAT>\".join(x), axis=1)\n"
     ]
    },
    {
     "data": {
      "text/html": [
       "<div>\n",
       "<style scoped>\n",
       "    .dataframe tbody tr th:only-of-type {\n",
       "        vertical-align: middle;\n",
       "    }\n",
       "\n",
       "    .dataframe tbody tr th {\n",
       "        vertical-align: top;\n",
       "    }\n",
       "\n",
       "    .dataframe thead th {\n",
       "        text-align: right;\n",
       "    }\n",
       "</style>\n",
       "<table border=\"1\" class=\"dataframe\">\n",
       "  <thead>\n",
       "    <tr style=\"text-align: right;\">\n",
       "      <th></th>\n",
       "      <th>video_id</th>\n",
       "      <th>english_caption</th>\n",
       "      <th>english_first_level_category_name</th>\n",
       "      <th>english_second_level_category_name</th>\n",
       "      <th>english_third_level_category_name</th>\n",
       "      <th>english_topic_tag</th>\n",
       "      <th>all_english</th>\n",
       "    </tr>\n",
       "  </thead>\n",
       "  <tbody>\n",
       "    <tr>\n",
       "      <th>0</th>\n",
       "      <td>0</td>\n",
       "      <td>The spirit of the young man is tough;程哥, pleas...</td>\n",
       "      <td>Beauty index</td>\n",
       "      <td>Snap of good looks</td>\n",
       "      <td>UNKNOWN</td>\n",
       "      <td>[]</td>\n",
       "      <td>The spirit of the young man is tough;程哥, pleas...</td>\n",
       "    </tr>\n",
       "    <tr>\n",
       "      <th>1</th>\n",
       "      <td>1</td>\n",
       "      <td>man</td>\n",
       "      <td>HighTech Digital</td>\n",
       "      <td>UNKNOWN</td>\n",
       "      <td>UNKNOWN</td>\n",
       "      <td>[]</td>\n",
       "      <td>man&lt;CONCAT&gt;HighTech Digital&lt;CONCAT&gt;UNKNOWN&lt;CON...</td>\n",
       "    </tr>\n",
       "    <tr>\n",
       "      <th>2</th>\n",
       "      <td>2</td>\n",
       "      <td>After dinner, get some exercise!</td>\n",
       "      <td>Comedy</td>\n",
       "      <td>Humorous interaction</td>\n",
       "      <td>UNKNOWN</td>\n",
       "      <td>[]</td>\n",
       "      <td>After dinner, get some exercise!&lt;CONCAT&gt;Comedy...</td>\n",
       "    </tr>\n",
       "    <tr>\n",
       "      <th>3</th>\n",
       "      <td>3</td>\n",
       "      <td>I am unremarkable, unable to stun time or soft...</td>\n",
       "      <td>Photography</td>\n",
       "      <td>Theme Photography</td>\n",
       "      <td>Landscape photography</td>\n",
       "      <td>[]</td>\n",
       "      <td>I am unremarkable, unable to stun time or soft...</td>\n",
       "    </tr>\n",
       "    <tr>\n",
       "      <th>4</th>\n",
       "      <td>4</td>\n",
       "      <td>#Humorous #Thanks快准热浪 #Wulai Market This is a ...</td>\n",
       "      <td>Fashion</td>\n",
       "      <td>Sales promotion</td>\n",
       "      <td>Women's clothing</td>\n",
       "      <td>[Wulai Market, thanks for Fastly Me Wanting to...</td>\n",
       "      <td>#Humorous #Thanks快准热浪 #Wulai Market This is a ...</td>\n",
       "    </tr>\n",
       "  </tbody>\n",
       "</table>\n",
       "</div>"
      ],
      "text/plain": [
       "  video_id                                    english_caption  \\\n",
       "0        0  The spirit of the young man is tough;程哥, pleas...   \n",
       "1        1                                                man   \n",
       "2        2                   After dinner, get some exercise!   \n",
       "3        3  I am unremarkable, unable to stun time or soft...   \n",
       "4        4  #Humorous #Thanks快准热浪 #Wulai Market This is a ...   \n",
       "\n",
       "  english_first_level_category_name english_second_level_category_name  \\\n",
       "0                      Beauty index                 Snap of good looks   \n",
       "1                  HighTech Digital                            UNKNOWN   \n",
       "2                            Comedy               Humorous interaction   \n",
       "3                       Photography                  Theme Photography   \n",
       "4                           Fashion                    Sales promotion   \n",
       "\n",
       "  english_third_level_category_name  \\\n",
       "0                           UNKNOWN   \n",
       "1                           UNKNOWN   \n",
       "2                           UNKNOWN   \n",
       "3             Landscape photography   \n",
       "4                  Women's clothing   \n",
       "\n",
       "                                   english_topic_tag  \\\n",
       "0                                                 []   \n",
       "1                                                 []   \n",
       "2                                                 []   \n",
       "3                                                 []   \n",
       "4  [Wulai Market, thanks for Fastly Me Wanting to...   \n",
       "\n",
       "                                         all_english  \n",
       "0  The spirit of the young man is tough;程哥, pleas...  \n",
       "1  man<CONCAT>HighTech Digital<CONCAT>UNKNOWN<CON...  \n",
       "2  After dinner, get some exercise!<CONCAT>Comedy...  \n",
       "3  I am unremarkable, unable to stun time or soft...  \n",
       "4  #Humorous #Thanks快准热浪 #Wulai Market This is a ...  "
      ]
     },
     "execution_count": 35,
     "metadata": {},
     "output_type": "execute_result"
    }
   ],
   "source": [
    "captions = pd.read_csv(rootpath + \"data/kuairec_caption_category_translated.csv\")\n",
    "cols = captions.columns\n",
    "english_cols = [col for col in cols if \"english\" in col]\n",
    "\n",
    "captions_english = captions[[\"video_id\"] + english_cols]\n",
    "captions_english[\"all_english\"] = captions_english[english_cols].fillna(\"\").apply(lambda x: \"<CONCAT>\".join(x), axis=1)\n",
    "captions_english.head()"
   ]
  },
  {
   "cell_type": "code",
   "execution_count": 4,
   "metadata": {},
   "outputs": [
    {
     "name": "stdout",
     "output_type": "stream",
     "text": [
      "(10732, 6)\n"
     ]
    }
   ],
   "source": [
    "print(captions_english.shape)"
   ]
  },
  {
   "cell_type": "code",
   "execution_count": 29,
   "metadata": {},
   "outputs": [],
   "source": [
    "from transformers import DistilBertTokenizer, DistilBertModel\n",
    "import torch\n",
    "from tqdm import tqdm"
   ]
  },
  {
   "cell_type": "code",
   "execution_count": 6,
   "metadata": {},
   "outputs": [
    {
     "name": "stderr",
     "output_type": "stream",
     "text": [
      "/root/anaconda3/lib/python3.11/site-packages/transformers/tokenization_utils_base.py:1601: FutureWarning: `clean_up_tokenization_spaces` was not set. It will be set to `True` by default. This behavior will be depracted in transformers v4.45, and will be then set to `False` by default. For more details check this issue: https://github.com/huggingface/transformers/issues/31884\n",
      "  warnings.warn(\n"
     ]
    }
   ],
   "source": [
    "tokenizer = DistilBertTokenizer.from_pretrained('distilbert-base-uncased')\n",
    "model = DistilBertModel.from_pretrained('distilbert-base-uncased')"
   ]
  },
  {
   "cell_type": "code",
   "execution_count": 32,
   "metadata": {},
   "outputs": [
    {
     "name": "stderr",
     "output_type": "stream",
     "text": [
      "Ingesting documents: 100%|██████████| 10732/10732 [11:54<00:00, 15.02it/s]\n"
     ]
    }
   ],
   "source": [
    "from langchain_community.vectorstores.faiss import FAISS\n",
    "from langchain.embeddings.base import Embeddings\n",
    "from langchain.schema import Document\n",
    "\n",
    "documents = [Document(page_content=row[\"all_english\"], metadata={\"id\": row[\"video_id\"]}) for index, row in captions_english.iterrows()]\n",
    "\n",
    "class MyEmbeddings(Embeddings):\n",
    "    def embed_documents(self, docs):\n",
    "        split_docs = pd.DataFrame([doc.split(\"<CONCAT>\") for doc in docs])\n",
    "        split_docs = split_docs.fillna(\"\")\n",
    "\n",
    "        final_embeddings = None\n",
    "\n",
    "        for col in split_docs.columns:\n",
    "            inputs = tokenizer(split_docs[col].values.tolist(), return_tensors=\"pt\", padding=True, truncation=True)\n",
    "            with torch.no_grad():\n",
    "                outputs = model(**inputs)\n",
    "            last_hidden_states = outputs.last_hidden_state\n",
    "            sentence_embeddings = torch.mean(last_hidden_states, dim=1)\n",
    "            \n",
    "            if final_embeddings is None:\n",
    "                final_embeddings = sentence_embeddings\n",
    "            else:\n",
    "                final_embeddings = torch.cat((final_embeddings, sentence_embeddings), dim=1)\n",
    "\n",
    "        return final_embeddings\n",
    "\n",
    "    def embed_query(self, query):\n",
    "        embedded_doc = self.embed_documents([query])\n",
    "        return embedded_doc[0]\n",
    "\n",
    "faiss_store = None\n",
    "\n",
    "with tqdm(total=len(documents), desc=\"Ingesting documents\") as pbar:\n",
    "    for d in documents:\n",
    "        if faiss_store:\n",
    "            faiss_store.add_documents([d])\n",
    "        else:\n",
    "            faiss_store = FAISS.from_documents([d], MyEmbeddings())\n",
    "        pbar.update(1)  "
   ]
  },
  {
   "cell_type": "code",
   "execution_count": 40,
   "metadata": {},
   "outputs": [],
   "source": [
    "faiss_store.save_local('faiss_index')"
   ]
  },
  {
   "cell_type": "code",
   "execution_count": 50,
   "metadata": {},
   "outputs": [],
   "source": [
    "faiss_store = FAISS.load_local(\n",
    "    \"faiss_index\", MyEmbeddings(), allow_dangerous_deserialization=True\n",
    ")"
   ]
  },
  {
   "cell_type": "code",
   "execution_count": 51,
   "metadata": {},
   "outputs": [],
   "source": [
    "vector_dic = {}\n",
    "\n",
    "faiss_index = faiss_store.index\n",
    "\n",
    "num_vectors = faiss_index.ntotal\n",
    "all_vectors = np.zeros((num_vectors, faiss_index.d), dtype='float32')\n",
    "faiss_index.reconstruct_n(0, num_vectors, all_vectors)\n",
    "\n",
    "for i, doc_id in enumerate(faiss_store.docstore._dict.keys()):\n",
    "    vector = all_vectors[i]\n",
    "    metadata = faiss_store.docstore._dict[doc_id].metadata\n",
    "    video_id = metadata['id']\n",
    "    vector_dic[video_id] = vector"
   ]
  },
  {
   "cell_type": "code",
   "execution_count": 53,
   "metadata": {},
   "outputs": [],
   "source": [
    "small_matrix = pd.read_csv(rootpath + \"data/small_matrix.csv\")"
   ]
  },
  {
   "cell_type": "code",
   "execution_count": 90,
   "metadata": {},
   "outputs": [
    {
     "data": {
      "text/html": [
       "<div>\n",
       "<style scoped>\n",
       "    .dataframe tbody tr th:only-of-type {\n",
       "        vertical-align: middle;\n",
       "    }\n",
       "\n",
       "    .dataframe tbody tr th {\n",
       "        vertical-align: top;\n",
       "    }\n",
       "\n",
       "    .dataframe thead th {\n",
       "        text-align: right;\n",
       "    }\n",
       "</style>\n",
       "<table border=\"1\" class=\"dataframe\">\n",
       "  <thead>\n",
       "    <tr style=\"text-align: right;\">\n",
       "      <th></th>\n",
       "      <th>score</th>\n",
       "    </tr>\n",
       "  </thead>\n",
       "  <tbody>\n",
       "    <tr>\n",
       "      <th>4989</th>\n",
       "      <td>0.926011</td>\n",
       "    </tr>\n",
       "    <tr>\n",
       "      <th>2449</th>\n",
       "      <td>0.924867</td>\n",
       "    </tr>\n",
       "    <tr>\n",
       "      <th>3145</th>\n",
       "      <td>0.922013</td>\n",
       "    </tr>\n",
       "    <tr>\n",
       "      <th>6664</th>\n",
       "      <td>0.921905</td>\n",
       "    </tr>\n",
       "    <tr>\n",
       "      <th>8264</th>\n",
       "      <td>0.921281</td>\n",
       "    </tr>\n",
       "    <tr>\n",
       "      <th>...</th>\n",
       "      <td>...</td>\n",
       "    </tr>\n",
       "    <tr>\n",
       "      <th>6090</th>\n",
       "      <td>-inf</td>\n",
       "    </tr>\n",
       "    <tr>\n",
       "      <th>6088</th>\n",
       "      <td>-inf</td>\n",
       "    </tr>\n",
       "    <tr>\n",
       "      <th>1027</th>\n",
       "      <td>-inf</td>\n",
       "    </tr>\n",
       "    <tr>\n",
       "      <th>1032</th>\n",
       "      <td>-inf</td>\n",
       "    </tr>\n",
       "    <tr>\n",
       "      <th>5364</th>\n",
       "      <td>-inf</td>\n",
       "    </tr>\n",
       "  </tbody>\n",
       "</table>\n",
       "<p>10728 rows × 1 columns</p>\n",
       "</div>"
      ],
      "text/plain": [
       "         score\n",
       "4989  0.926011\n",
       "2449  0.924867\n",
       "3145  0.922013\n",
       "6664  0.921905\n",
       "8264  0.921281\n",
       "...        ...\n",
       "6090      -inf\n",
       "6088      -inf\n",
       "1027      -inf\n",
       "1032      -inf\n",
       "5364      -inf\n",
       "\n",
       "[10728 rows x 1 columns]"
      ]
     },
     "execution_count": 90,
     "metadata": {},
     "output_type": "execute_result"
    }
   ],
   "source": [
    "# Given a user id, return the recommendation scores for all videos in a pandas dataframe\n",
    "def get_recommendation_scores(user_id):\n",
    "    watched_videos = small_matrix[small_matrix[\"user_id\"] == user_id][\"video_id\"].tolist()\n",
    "\n",
    "    avg_vector = np.zeros(3840)\n",
    "\n",
    "    for video_id in watched_videos:\n",
    "        avg_vector += vector_dic[str(video_id)]\n",
    "    \n",
    "    avg_vector /= len(watched_videos)\n",
    "\n",
    "    scores = {}\n",
    "    for video_id, vector in vector_dic.items():\n",
    "        try:\n",
    "            if int(video_id) in watched_videos:\n",
    "                scores[video_id] = float(\"-inf\")\n",
    "                continue\n",
    "        except:\n",
    "            continue\n",
    "\n",
    "        cosine_similarity = np.dot(avg_vector, vector) / (norm(avg_vector) * norm(vector))\n",
    "        scores[video_id] = cosine_similarity\n",
    "\n",
    "    scores = pd.DataFrame.from_dict(scores, orient=\"index\", columns=[\"score\"])\n",
    "    scores = scores.sort_values(by=\"score\", ascending=False)\n",
    "\n",
    "    return scores\n",
    "\n",
    "get_recommendation_scores(14)"
   ]
  },
  {
   "cell_type": "code",
   "execution_count": null,
   "metadata": {},
   "outputs": [],
   "source": []
  }
 ],
 "metadata": {
  "kernelspec": {
   "display_name": "base",
   "language": "python",
   "name": "python3"
  },
  "language_info": {
   "codemirror_mode": {
    "name": "ipython",
    "version": 3
   },
   "file_extension": ".py",
   "mimetype": "text/x-python",
   "name": "python",
   "nbconvert_exporter": "python",
   "pygments_lexer": "ipython3",
   "version": "3.11.7"
  }
 },
 "nbformat": 4,
 "nbformat_minor": 2
}
