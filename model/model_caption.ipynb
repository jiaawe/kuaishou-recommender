{
 "cells": [
  {
   "cell_type": "code",
   "execution_count": 3,
   "metadata": {},
   "outputs": [],
   "source": [
    "import pandas as pd\n",
    "import numpy as np\n",
    "from numpy.linalg import norm\n",
    "\n",
    "from transformers import DistilBertTokenizer, DistilBertModel\n",
    "import torch\n",
    "from tqdm import tqdm\n",
    "\n",
    "from langchain_community.vectorstores.faiss import FAISS\n",
    "from langchain.embeddings.base import Embeddings\n",
    "from langchain.schema import Document"
   ]
  },
  {
   "cell_type": "code",
   "execution_count": 8,
   "metadata": {},
   "outputs": [],
   "source": [
    "rootpath = '../'"
   ]
  },
  {
   "cell_type": "code",
   "execution_count": 2,
   "metadata": {},
   "outputs": [
    {
     "name": "stderr",
     "output_type": "stream",
     "text": [
      "/root/anaconda3/lib/python3.11/site-packages/transformers/tokenization_utils_base.py:1601: FutureWarning: `clean_up_tokenization_spaces` was not set. It will be set to `True` by default. This behavior will be depracted in transformers v4.45, and will be then set to `False` by default. For more details check this issue: https://github.com/huggingface/transformers/issues/31884\n",
      "  warnings.warn(\n"
     ]
    }
   ],
   "source": [
    "tokenizer = DistilBertTokenizer.from_pretrained('distilbert-base-uncased')\n",
    "model = DistilBertModel.from_pretrained('distilbert-base-uncased')"
   ]
  },
  {
   "cell_type": "code",
   "execution_count": 4,
   "metadata": {},
   "outputs": [],
   "source": [
    "class MyEmbeddings(Embeddings):\n",
    "    def embed_documents(self, docs):\n",
    "        split_docs = pd.DataFrame([doc.split(\"<CONCAT>\") for doc in docs])\n",
    "        split_docs = split_docs.fillna(\"\")\n",
    "\n",
    "        final_embeddings = None\n",
    "\n",
    "        for col in split_docs.columns:\n",
    "            inputs = tokenizer(split_docs[col].values.tolist(), return_tensors=\"pt\", padding=True, truncation=True)\n",
    "            with torch.no_grad():\n",
    "                outputs = model(**inputs)\n",
    "            last_hidden_states = outputs.last_hidden_state\n",
    "            sentence_embeddings = torch.mean(last_hidden_states, dim=1)\n",
    "            \n",
    "            if final_embeddings is None:\n",
    "                final_embeddings = sentence_embeddings\n",
    "            else:\n",
    "                final_embeddings = torch.cat((final_embeddings, sentence_embeddings), dim=1)\n",
    "\n",
    "        return final_embeddings\n",
    "\n",
    "    def embed_query(self, query):\n",
    "        embedded_doc = self.embed_documents([query])\n",
    "        return embedded_doc[0]"
   ]
  },
  {
   "cell_type": "code",
   "execution_count": 5,
   "metadata": {},
   "outputs": [],
   "source": [
    "faiss_store = FAISS.load_local(\n",
    "    \"../faiss_index\", MyEmbeddings(), allow_dangerous_deserialization=True\n",
    ")"
   ]
  },
  {
   "cell_type": "code",
   "execution_count": 6,
   "metadata": {},
   "outputs": [],
   "source": [
    "vector_dic = {}\n",
    "\n",
    "faiss_index = faiss_store.index\n",
    "\n",
    "num_vectors = faiss_index.ntotal\n",
    "all_vectors = np.zeros((num_vectors, faiss_index.d), dtype='float32')\n",
    "faiss_index.reconstruct_n(0, num_vectors, all_vectors)\n",
    "\n",
    "for i, doc_id in enumerate(faiss_store.docstore._dict.keys()):\n",
    "    vector = all_vectors[i]\n",
    "    metadata = faiss_store.docstore._dict[doc_id].metadata\n",
    "    video_id = metadata['id']\n",
    "    vector_dic[video_id] = vector"
   ]
  },
  {
   "cell_type": "code",
   "execution_count": 11,
   "metadata": {},
   "outputs": [],
   "source": [
    "train_data = pd.read_csv(rootpath + \"data_exports/joined_train_data_FE.csv\")"
   ]
  },
  {
   "cell_type": "code",
   "execution_count": 13,
   "metadata": {},
   "outputs": [
    {
     "data": {
      "text/html": [
       "<div>\n",
       "<style scoped>\n",
       "    .dataframe tbody tr th:only-of-type {\n",
       "        vertical-align: middle;\n",
       "    }\n",
       "\n",
       "    .dataframe tbody tr th {\n",
       "        vertical-align: top;\n",
       "    }\n",
       "\n",
       "    .dataframe thead th {\n",
       "        text-align: right;\n",
       "    }\n",
       "</style>\n",
       "<table border=\"1\" class=\"dataframe\">\n",
       "  <thead>\n",
       "    <tr style=\"text-align: right;\">\n",
       "      <th></th>\n",
       "      <th>score</th>\n",
       "    </tr>\n",
       "  </thead>\n",
       "  <tbody>\n",
       "    <tr>\n",
       "      <th>4989</th>\n",
       "      <td>4.644616</td>\n",
       "    </tr>\n",
       "    <tr>\n",
       "      <th>2449</th>\n",
       "      <td>4.643638</td>\n",
       "    </tr>\n",
       "    <tr>\n",
       "      <th>2966</th>\n",
       "      <td>4.640736</td>\n",
       "    </tr>\n",
       "    <tr>\n",
       "      <th>3145</th>\n",
       "      <td>4.628510</td>\n",
       "    </tr>\n",
       "    <tr>\n",
       "      <th>7485</th>\n",
       "      <td>4.626839</td>\n",
       "    </tr>\n",
       "    <tr>\n",
       "      <th>...</th>\n",
       "      <td>...</td>\n",
       "    </tr>\n",
       "    <tr>\n",
       "      <th>2312</th>\n",
       "      <td>-inf</td>\n",
       "    </tr>\n",
       "    <tr>\n",
       "      <th>2314</th>\n",
       "      <td>-inf</td>\n",
       "    </tr>\n",
       "    <tr>\n",
       "      <th>7141</th>\n",
       "      <td>-inf</td>\n",
       "    </tr>\n",
       "    <tr>\n",
       "      <th>632</th>\n",
       "      <td>-inf</td>\n",
       "    </tr>\n",
       "    <tr>\n",
       "      <th>5364</th>\n",
       "      <td>-inf</td>\n",
       "    </tr>\n",
       "  </tbody>\n",
       "</table>\n",
       "<p>10728 rows × 1 columns</p>\n",
       "</div>"
      ],
      "text/plain": [
       "         score\n",
       "4989  4.644616\n",
       "2449  4.643638\n",
       "2966  4.640736\n",
       "3145  4.628510\n",
       "7485  4.626839\n",
       "...        ...\n",
       "2312      -inf\n",
       "2314      -inf\n",
       "7141      -inf\n",
       "632       -inf\n",
       "5364      -inf\n",
       "\n",
       "[10728 rows x 1 columns]"
      ]
     },
     "execution_count": 13,
     "metadata": {},
     "output_type": "execute_result"
    }
   ],
   "source": [
    "# Given a user id, return the recommendation scores for all videos in a pandas dataframe\n",
    "def get_recommendation_scores(user_id):\n",
    "    watched_videos = train_data[train_data[\"user_id\"] == user_id][\"video_id\"].tolist()\n",
    "\n",
    "    avg_vector = np.zeros(3840)\n",
    "\n",
    "    for video_id in watched_videos:\n",
    "        avg_vector += vector_dic[str(video_id)]\n",
    "    \n",
    "    avg_vector /= len(watched_videos)\n",
    "\n",
    "    scores = {}\n",
    "    for video_id, vector in vector_dic.items():\n",
    "        try:\n",
    "            if int(video_id) in watched_videos:\n",
    "                scores[video_id] = float(\"-inf\")\n",
    "                continue\n",
    "        except:\n",
    "            continue\n",
    "\n",
    "        cosine_similarity = np.dot(avg_vector, vector) / (norm(avg_vector) * norm(vector))\n",
    "        scores[video_id] = cosine_similarity * 5\n",
    "\n",
    "    scores = pd.DataFrame.from_dict(scores, orient=\"index\", columns=[\"score\"])\n",
    "    scores = scores.sort_values(by=\"score\", ascending=False)\n",
    "\n",
    "    return scores\n",
    "\n",
    "get_recommendation_scores(14)"
   ]
  },
  {
   "cell_type": "code",
   "execution_count": null,
   "metadata": {},
   "outputs": [],
   "source": []
  }
 ],
 "metadata": {
  "kernelspec": {
   "display_name": "base",
   "language": "python",
   "name": "python3"
  },
  "language_info": {
   "codemirror_mode": {
    "name": "ipython",
    "version": 3
   },
   "file_extension": ".py",
   "mimetype": "text/x-python",
   "name": "python",
   "nbconvert_exporter": "python",
   "pygments_lexer": "ipython3",
   "version": "3.11.7"
  }
 },
 "nbformat": 4,
 "nbformat_minor": 2
}
