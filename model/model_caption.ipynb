{
 "cells": [
  {
   "cell_type": "code",
   "execution_count": 1,
   "metadata": {},
   "outputs": [],
   "source": [
    "import pandas as pd\n",
    "import numpy as np\n",
    "from numpy.linalg import norm\n",
    "\n",
    "from transformers import DistilBertTokenizer, DistilBertModel\n",
    "import torch\n",
    "from tqdm import tqdm\n",
    "\n",
    "from langchain_community.vectorstores.faiss import FAISS\n",
    "from langchain.embeddings.base import Embeddings"
   ]
  },
  {
   "cell_type": "code",
   "execution_count": 2,
   "metadata": {},
   "outputs": [],
   "source": [
    "rootpath = '../'"
   ]
  },
  {
   "cell_type": "code",
   "execution_count": 3,
   "metadata": {},
   "outputs": [
    {
     "name": "stderr",
     "output_type": "stream",
     "text": [
      "/root/anaconda3/lib/python3.11/site-packages/transformers/tokenization_utils_base.py:1601: FutureWarning: `clean_up_tokenization_spaces` was not set. It will be set to `True` by default. This behavior will be depracted in transformers v4.45, and will be then set to `False` by default. For more details check this issue: https://github.com/huggingface/transformers/issues/31884\n",
      "  warnings.warn(\n"
     ]
    }
   ],
   "source": [
    "tokenizer = DistilBertTokenizer.from_pretrained('distilbert-base-uncased')\n",
    "model = DistilBertModel.from_pretrained('distilbert-base-uncased')"
   ]
  },
  {
   "cell_type": "code",
   "execution_count": 4,
   "metadata": {},
   "outputs": [],
   "source": [
    "class MyEmbeddings(Embeddings):\n",
    "    def embed_documents(self, docs):\n",
    "        split_docs = pd.DataFrame([doc.split(\"<CONCAT>\") for doc in docs])\n",
    "        split_docs = split_docs.fillna(\"\")\n",
    "\n",
    "        final_embeddings = None\n",
    "\n",
    "        for col in split_docs.columns:\n",
    "            inputs = tokenizer(split_docs[col].values.tolist(), return_tensors=\"pt\", padding=True, truncation=True)\n",
    "            with torch.no_grad():\n",
    "                outputs = model(**inputs)\n",
    "            last_hidden_states = outputs.last_hidden_state\n",
    "            sentence_embeddings = torch.mean(last_hidden_states, dim=1)\n",
    "            \n",
    "            if final_embeddings is None:\n",
    "                final_embeddings = sentence_embeddings\n",
    "            else:\n",
    "                final_embeddings = torch.cat((final_embeddings, sentence_embeddings), dim=1)\n",
    "\n",
    "        return final_embeddings\n",
    "\n",
    "    def embed_query(self, query):\n",
    "        embedded_doc = self.embed_documents([query])\n",
    "        return embedded_doc[0]"
   ]
  },
  {
   "cell_type": "code",
   "execution_count": 5,
   "metadata": {},
   "outputs": [],
   "source": [
    "faiss_store = FAISS.load_local(\n",
    "    \"../faiss_index\", MyEmbeddings(), allow_dangerous_deserialization=True\n",
    ")"
   ]
  },
  {
   "cell_type": "code",
   "execution_count": 6,
   "metadata": {},
   "outputs": [],
   "source": [
    "vector_dic = {}\n",
    "\n",
    "faiss_index = faiss_store.index\n",
    "\n",
    "num_vectors = faiss_index.ntotal\n",
    "all_vectors = np.zeros((num_vectors, faiss_index.d), dtype='float32')\n",
    "faiss_index.reconstruct_n(0, num_vectors, all_vectors)\n",
    "\n",
    "for i, doc_id in enumerate(faiss_store.docstore._dict.keys()):\n",
    "    vector = all_vectors[i]\n",
    "    metadata = faiss_store.docstore._dict[doc_id].metadata\n",
    "    video_id = metadata['id']\n",
    "    vector_dic[video_id] = vector"
   ]
  },
  {
   "cell_type": "code",
   "execution_count": 7,
   "metadata": {},
   "outputs": [],
   "source": [
    "train_data = pd.read_csv(rootpath + \"data_exports/joined_train_data.csv\")\n",
    "val_data = pd.read_csv(rootpath + \"data_exports/joined_val_data.csv\")\n",
    "\n",
    "train_val_data = pd.concat([train_data, val_data])"
   ]
  },
  {
   "cell_type": "code",
   "execution_count": null,
   "metadata": {},
   "outputs": [],
   "source": [
    "decay_constant = 10\n",
    "latest_time = pd.to_datetime(train_val_data['time'].max())\n",
    "\n",
    "# Given a user id, return the recommendation scores for all videos in a pandas dataframe\n",
    "def get_recommendation_scores(user_id):\n",
    "    watched_rows = train_val_data[train_val_data[\"user_id\"] == user_id]\n",
    "\n",
    "    avg_vector = np.zeros(3840)\n",
    "\n",
    "    sum_coefs = 0\n",
    "\n",
    "    # for video_id in watched_videos:\n",
    "    for index, row in watched_rows.iterrows():\n",
    "        video_id = row[\"video_id\"]\n",
    "        watch_ratio_coef = row[\"watch_ratio\"]\n",
    "        time = row[\"time\"]\n",
    "\n",
    "        time = pd.to_datetime(time)\n",
    "        time_diff_in_days = (latest_time - time).days\n",
    "\n",
    "        decay_coef = np.exp(-time_diff_in_days / decay_constant)\n",
    "\n",
    "        combined_coef = watch_ratio_coef * decay_coef\n",
    "        sum_coefs += combined_coef\n",
    "\n",
    "        avg_vector += vector_dic[str(video_id)] * combined_coef\n",
    "    \n",
    "    avg_vector /= sum_coefs\n",
    "\n",
    "    scores = {}\n",
    "    for video_id, vector in vector_dic.items():\n",
    "        try:\n",
    "            int(video_id)\n",
    "        except:\n",
    "            continue\n",
    "\n",
    "        cosine_similarity = np.dot(avg_vector, vector) / (norm(avg_vector) * norm(vector))\n",
    "        scores[video_id] = (cosine_similarity + 1) * 5 / 2\n",
    "        \n",
    "    return scores"
   ]
  },
  {
   "cell_type": "code",
   "execution_count": null,
   "metadata": {},
   "outputs": [
    {
     "name": "stderr",
     "output_type": "stream",
     "text": [
      "  0%|          | 0/1411 [00:00<?, ?it/s]"
     ]
    },
    {
     "name": "stderr",
     "output_type": "stream",
     "text": [
      "100%|██████████| 1411/1411 [08:03<00:00,  2.92it/s]\n"
     ]
    }
   ],
   "source": [
    "all_unique_user_ids = train_val_data[\"user_id\"].unique()\n",
    "\n",
    "all_recommendations = {}\n",
    "\n",
    "for user_id in tqdm(all_unique_user_ids):\n",
    "    recommendations = get_recommendation_scores(user_id)\n",
    "    all_recommendations[user_id] = recommendations\n",
    "\n",
    "flat_data = [(user_id, video_id, watch_ratio) \n",
    "            for user_id, videos in all_recommendations.items() \n",
    "            for video_id, watch_ratio in videos.items()]\n",
    "\n",
    "# Create DataFrame\n",
    "recommendations_df = pd.DataFrame(flat_data, columns=[\"user_id\", \"video_id\", \"watch_ratio\"])\n",
    "\n",
    "recommendations_df.to_csv(rootpath + \"recommendations/recommendations_caption_test_full.csv\")"
   ]
  },
  {
   "cell_type": "code",
   "execution_count": null,
   "metadata": {},
   "outputs": [
    {
     "data": {
      "text/plain": [
       "(12585126, 3)"
      ]
     },
     "execution_count": 55,
     "metadata": {},
     "output_type": "execute_result"
    }
   ],
   "source": [
    "recommendations_df.shape"
   ]
  },
  {
   "cell_type": "code",
   "execution_count": null,
   "metadata": {},
   "outputs": [],
   "source": []
  }
 ],
 "metadata": {
  "kernelspec": {
   "display_name": "base",
   "language": "python",
   "name": "python3"
  },
  "language_info": {
   "codemirror_mode": {
    "name": "ipython",
    "version": 3
   },
   "file_extension": ".py",
   "mimetype": "text/x-python",
   "name": "python",
   "nbconvert_exporter": "python",
   "pygments_lexer": "ipython3",
   "version": "3.11.7"
  }
 },
 "nbformat": 4,
 "nbformat_minor": 2
}
