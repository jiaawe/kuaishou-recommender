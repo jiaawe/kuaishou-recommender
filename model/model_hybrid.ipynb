{
 "cells": [
  {
   "cell_type": "code",
   "execution_count": 19,
   "metadata": {},
   "outputs": [],
   "source": [
    "import pandas as pd\n",
    "import numpy as np\n",
    "\n",
    "from tqdm import tqdm"
   ]
  },
  {
   "cell_type": "markdown",
   "metadata": {},
   "source": [
    "# Import the models' predictions"
   ]
  },
  {
   "cell_type": "code",
   "execution_count": null,
   "metadata": {},
   "outputs": [],
   "source": [
    "root = '../'\n",
    "\n",
    "test_pred_ncf = pd.read_csv(root + 'recommendations/final_w_clustering_batch_size512_num_epochs20_lr0_001_embedding.csv')\n",
    "test_pred_caption = pd.read_csv(root + 'recommendations/recommendations_caption_test_full.csv')"
   ]
  },
  {
   "cell_type": "markdown",
   "metadata": {},
   "source": [
    "# Combine the two predictions\n",
    "The weights are gotten from the results of a regression analysis. It can be found on `step_7_regression.ipynb`"
   ]
  },
  {
   "cell_type": "code",
   "execution_count": 21,
   "metadata": {},
   "outputs": [],
   "source": [
    "weight_ncf = 0.5552\n",
    "weight_caption = 0.1421"
   ]
  },
  {
   "cell_type": "code",
   "execution_count": 22,
   "metadata": {},
   "outputs": [],
   "source": [
    "caption_ratio_dict = test_pred_caption.set_index(['user_id', 'video_id'])['watch_ratio'].to_dict()"
   ]
  },
  {
   "cell_type": "code",
   "execution_count": 23,
   "metadata": {},
   "outputs": [
    {
     "name": "stderr",
     "output_type": "stream",
     "text": [
      "  0%|          | 1692/3327956 [00:00<03:16, 16916.59it/s]"
     ]
    },
    {
     "name": "stderr",
     "output_type": "stream",
     "text": [
      "100%|██████████| 3327956/3327956 [03:21<00:00, 16549.79it/s]\n"
     ]
    }
   ],
   "source": [
    "hybrid_pred = test_pred_ncf.copy()\n",
    "\n",
    "for i in tqdm(range(len(hybrid_pred))):\n",
    "    user_id = hybrid_pred['user_id'][i]\n",
    "    video_id = hybrid_pred['video_id'][i]\n",
    "    ncf_ratio = hybrid_pred['watch_ratio'][i]\n",
    "    caption_ratio = 0\n",
    "    if (user_id, video_id) in caption_ratio_dict:\n",
    "        caption_ratio = caption_ratio_dict[(user_id, video_id)]\n",
    "    hybrid_pred.at[i, 'watch_ratio'] = ncf_ratio * weight_ncf + caption_ratio * weight_caption"
   ]
  },
  {
   "cell_type": "code",
   "execution_count": null,
   "metadata": {},
   "outputs": [],
   "source": [
    "hybrid_pred.to_csv(root + 'recommendations/recommendations_hybrid_test_full.csv', index=False)"
   ]
  },
  {
   "cell_type": "code",
   "execution_count": null,
   "metadata": {},
   "outputs": [],
   "source": []
  }
 ],
 "metadata": {
  "kernelspec": {
   "display_name": "base",
   "language": "python",
   "name": "python3"
  },
  "language_info": {
   "codemirror_mode": {
    "name": "ipython",
    "version": 3
   },
   "file_extension": ".py",
   "mimetype": "text/x-python",
   "name": "python",
   "nbconvert_exporter": "python",
   "pygments_lexer": "ipython3",
   "version": "3.11.7"
  }
 },
 "nbformat": 4,
 "nbformat_minor": 2
}
