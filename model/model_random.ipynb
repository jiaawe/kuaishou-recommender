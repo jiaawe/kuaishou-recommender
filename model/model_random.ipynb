{
 "cells": [
  {
   "cell_type": "code",
   "execution_count": 1,
   "metadata": {},
   "outputs": [],
   "source": [
    "import pandas as pd\n",
    "import numpy as np\n",
    "\n",
    "from tqdm import tqdm"
   ]
  },
  {
   "cell_type": "code",
   "execution_count": null,
   "metadata": {},
   "outputs": [],
   "source": [
    "rootpath = '../'\n",
    "\n",
    "# train_val_data = pd.read_csv(rootpath + \"data_exports/joined_train_val_data_FE.csv\")\n",
    "train_data = pd.read_csv(rootpath + \"data_exports/joined_train_val_data.csv\")\n",
    "val_data = pd.read_csv(rootpath + \"data_exports/joined_val_data.csv\")\n",
    "\n",
    "train_val_data = pd.concat([train_data, val_data])"
   ]
  },
  {
   "cell_type": "code",
   "execution_count": null,
   "metadata": {},
   "outputs": [],
   "source": [
    "# Given a user id, return the recommendation scores for all videos in a pandas dataframe\n",
    "def get_recommendation_scores(user_id):\n",
    "    watched_rows = train_val_data[train_val_data[\"user_id\"] == user_id]\n",
    "\n",
    "    watched_videos = set(watched_rows[\"video_id\"].tolist())\n",
    "\n",
    "    scores = {}\n",
    "    for video_id in range(10728):\n",
    "        if int(video_id) in watched_videos:\n",
    "            continue\n",
    "        \n",
    "        # random value from 0 to 5\n",
    "        scores[video_id] =  np.random.uniform(0, 5)\n",
    "        \n",
    "    return scores"
   ]
  },
  {
   "cell_type": "code",
   "execution_count": null,
   "metadata": {},
   "outputs": [
    {
     "name": "stderr",
     "output_type": "stream",
     "text": [
      "100%|██████████| 1411/1411 [00:27<00:00, 50.52it/s]\n"
     ]
    }
   ],
   "source": [
    "all_unique_user_ids = train_val_data[\"user_id\"].unique()\n",
    "\n",
    "all_recommendations = {}\n",
    "\n",
    "for user_id in tqdm(all_unique_user_ids):\n",
    "    recommendations = get_recommendation_scores(user_id)\n",
    "    all_recommendations[user_id] = recommendations\n",
    "\n",
    "flat_data = [(user_id, video_id, watch_ratio) \n",
    "            for user_id, videos in all_recommendations.items() \n",
    "            for video_id, watch_ratio in videos.items()]\n",
    "\n",
    "# Create DataFrame\n",
    "recommendations_df = pd.DataFrame(flat_data, columns=[\"user_id\", \"video_id\", \"watch_ratio\"])\n",
    "\n",
    "recommendations_df.to_csv(rootpath + \"recommendations/recommendations_random.csv\", index=False)"
   ]
  },
  {
   "cell_type": "code",
   "execution_count": null,
   "metadata": {},
   "outputs": [],
   "source": []
  }
 ],
 "metadata": {
  "kernelspec": {
   "display_name": "base",
   "language": "python",
   "name": "python3"
  },
  "language_info": {
   "codemirror_mode": {
    "name": "ipython",
    "version": 3
   },
   "file_extension": ".py",
   "mimetype": "text/x-python",
   "name": "python",
   "nbconvert_exporter": "python",
   "pygments_lexer": "ipython3",
   "version": "3.11.7"
  }
 },
 "nbformat": 4,
 "nbformat_minor": 2
}
