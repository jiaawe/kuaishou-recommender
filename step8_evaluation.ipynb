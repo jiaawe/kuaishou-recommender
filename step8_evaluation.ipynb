{
 "cells": [
  {
   "cell_type": "markdown",
   "metadata": {},
   "source": [
    "# Evaluation"
   ]
  },
  {
   "cell_type": "markdown",
   "metadata": {},
   "source": [
    "## Set up"
   ]
  },
  {
   "cell_type": "code",
   "execution_count": null,
   "metadata": {},
   "outputs": [
    {
     "name": "stdout",
     "output_type": "stream",
     "text": [
      "Drive already mounted at /content/drive; to attempt to forcibly remount, call drive.mount(\"/content/drive\", force_remount=True).\n"
     ]
    }
   ],
   "source": [
    "from google.colab import drive\n",
    "\n",
    "drive.mount('/content/drive')"
   ]
  },
  {
   "cell_type": "markdown",
   "metadata": {},
   "source": [
    "Set your root directory below. Make sure the `/data` and `/data_exports` folder is uploaded and is situated in this directory."
   ]
  },
  {
   "cell_type": "code",
   "execution_count": null,
   "metadata": {},
   "outputs": [],
   "source": [
    "# Adjust your root directory\n",
    "root = '/content/drive/MyDrive/KuaiRec/'"
   ]
  },
  {
   "cell_type": "markdown",
   "metadata": {},
   "source": [
    "## Load Prediction Scores"
   ]
  },
  {
   "cell_type": "code",
   "execution_count": 18,
   "metadata": {},
   "outputs": [],
   "source": [
    "import pandas as pd\n",
    "\n",
    "import eval_fns"
   ]
  },
  {
   "cell_type": "code",
   "execution_count": 4,
   "metadata": {},
   "outputs": [],
   "source": [
    "root = './'\n",
    "\n",
    "prediction_scores_caption = pd.read_csv(root + 'recommendations/recommendations_caption_test_full.csv')\n",
    "prediction_scores_ncf = pd.read_csv(root + 'recommendations/final_w_clustering_batch_size512_num_epochs20_lr0.001_embedding_dim64_dropout0.3_decay0.01.csv')\n",
    "prediction_scores_random = pd.read_csv(root + 'recommendations/recommendations_random_test_full.csv')\n",
    "joined_train_data = pd.read_csv(root + 'data_exports/joined_train_data.csv')\n",
    "joined_val_data = pd.read_csv(root + 'data_exports/joined_val_data.csv')\n",
    "joined_test_data = pd.read_csv(root + 'data_exports/joined_test_data.csv')\n",
    "\n",
    "joined_train_val_data = pd.concat([joined_train_data, joined_val_data])\n",
    "\n",
    "video_data = pd.read_csv(root + 'data/kuairec_caption_category_translated.csv', index_col=0)"
   ]
  },
  {
   "cell_type": "code",
   "execution_count": 5,
   "metadata": {},
   "outputs": [],
   "source": [
    "# Rename\n",
    "prediction_scores_caption = prediction_scores_caption.rename(columns={'watch_ratio': 'predicted_watch_ratio'})\n",
    "prediction_scores_ncf = prediction_scores_ncf.rename(columns={'watch_ratio': 'predicted_watch_ratio'})\n",
    "prediction_scores_random = prediction_scores_random.rename(columns={'watch_ratio': 'predicted_watch_ratio'})"
   ]
  },
  {
   "cell_type": "markdown",
   "metadata": {},
   "source": [
    "## Get user watch history\n",
    "\n",
    "We want to be able to filter out videos that the user has already watched. This is so that we recommend new videos instead."
   ]
  },
  {
   "cell_type": "code",
   "execution_count": 6,
   "metadata": {},
   "outputs": [
    {
     "data": {
      "text/plain": [
       "[8195, 8200, 8201, 8204, 8207, 8212, 8213, 8220, 8222, 8228]"
      ]
     },
     "execution_count": 6,
     "metadata": {},
     "output_type": "execute_result"
    }
   ],
   "source": [
    "user_watch_history = eval_fns.get_user_watch_history(joined_train_val_data)\n",
    "\n",
    "# Show 10 videos watched by user 14\n",
    "list(user_watch_history[14])[:10]"
   ]
  },
  {
   "cell_type": "markdown",
   "metadata": {},
   "source": [
    "## Getting ground truth videos for each user\n",
    "\n",
    "Next, we process the test set to obtain the ground truth watch ratios. The test set is filtered to only contain videos that are present in training and validation data, as well as those that the user has not watched before. Users and videos that are not in the training data are filtered out as well, as we cannot make recommendations for them. The remaining data is then sorted by user in ascending order and watch_ratio in descending order."
   ]
  },
  {
   "cell_type": "code",
   "execution_count": 7,
   "metadata": {},
   "outputs": [],
   "source": [
    "# Obtain users and videos in training and validation data\n",
    "users_in_train_val_data = set(joined_train_val_data['user_id'])\n",
    "videos_in_train_val_data = set(joined_train_val_data['video_id'])\n",
    "\n",
    "# Get ground truth user-item combinations and their watch ratios\n",
    "ground_truth = eval_fns.get_ground_truth(joined_test_data[['user_id', 'video_id', 'watch_ratio']], users_in_train_val_data, videos_in_train_val_data, user_watch_history)"
   ]
  },
  {
   "cell_type": "code",
   "execution_count": 8,
   "metadata": {},
   "outputs": [
    {
     "data": {
      "text/html": [
       "<div>\n",
       "<style scoped>\n",
       "    .dataframe tbody tr th:only-of-type {\n",
       "        vertical-align: middle;\n",
       "    }\n",
       "\n",
       "    .dataframe tbody tr th {\n",
       "        vertical-align: top;\n",
       "    }\n",
       "\n",
       "    .dataframe thead th {\n",
       "        text-align: right;\n",
       "    }\n",
       "</style>\n",
       "<table border=\"1\" class=\"dataframe\">\n",
       "  <thead>\n",
       "    <tr style=\"text-align: right;\">\n",
       "      <th></th>\n",
       "      <th>user_id</th>\n",
       "      <th>video_id</th>\n",
       "      <th>watch_ratio</th>\n",
       "    </tr>\n",
       "  </thead>\n",
       "  <tbody>\n",
       "    <tr>\n",
       "      <th>27</th>\n",
       "      <td>14</td>\n",
       "      <td>4184</td>\n",
       "      <td>3.234123</td>\n",
       "    </tr>\n",
       "    <tr>\n",
       "      <th>0</th>\n",
       "      <td>14</td>\n",
       "      <td>6293</td>\n",
       "      <td>2.442865</td>\n",
       "    </tr>\n",
       "    <tr>\n",
       "      <th>184</th>\n",
       "      <td>14</td>\n",
       "      <td>5954</td>\n",
       "      <td>1.899621</td>\n",
       "    </tr>\n",
       "    <tr>\n",
       "      <th>31</th>\n",
       "      <td>14</td>\n",
       "      <td>10354</td>\n",
       "      <td>1.884053</td>\n",
       "    </tr>\n",
       "    <tr>\n",
       "      <th>18</th>\n",
       "      <td>14</td>\n",
       "      <td>1352</td>\n",
       "      <td>1.780083</td>\n",
       "    </tr>\n",
       "    <tr>\n",
       "      <th>...</th>\n",
       "      <td>...</td>\n",
       "      <td>...</td>\n",
       "      <td>...</td>\n",
       "    </tr>\n",
       "    <tr>\n",
       "      <th>169</th>\n",
       "      <td>14</td>\n",
       "      <td>6270</td>\n",
       "      <td>0.062602</td>\n",
       "    </tr>\n",
       "    <tr>\n",
       "      <th>113</th>\n",
       "      <td>14</td>\n",
       "      <td>7736</td>\n",
       "      <td>0.060968</td>\n",
       "    </tr>\n",
       "    <tr>\n",
       "      <th>116</th>\n",
       "      <td>14</td>\n",
       "      <td>10140</td>\n",
       "      <td>0.032761</td>\n",
       "    </tr>\n",
       "    <tr>\n",
       "      <th>183</th>\n",
       "      <td>14</td>\n",
       "      <td>2755</td>\n",
       "      <td>0.032283</td>\n",
       "    </tr>\n",
       "    <tr>\n",
       "      <th>237</th>\n",
       "      <td>14</td>\n",
       "      <td>10094</td>\n",
       "      <td>0.031986</td>\n",
       "    </tr>\n",
       "  </tbody>\n",
       "</table>\n",
       "<p>157 rows × 3 columns</p>\n",
       "</div>"
      ],
      "text/plain": [
       "    user_id video_id  watch_ratio\n",
       "27       14     4184     3.234123\n",
       "0        14     6293     2.442865\n",
       "184      14     5954     1.899621\n",
       "31       14    10354     1.884053\n",
       "18       14     1352     1.780083\n",
       "..      ...      ...          ...\n",
       "169      14     6270     0.062602\n",
       "113      14     7736     0.060968\n",
       "116      14    10140     0.032761\n",
       "183      14     2755     0.032283\n",
       "237      14    10094     0.031986\n",
       "\n",
       "[157 rows x 3 columns]"
      ]
     },
     "execution_count": 8,
     "metadata": {},
     "output_type": "execute_result"
    }
   ],
   "source": [
    "# Ground truth scores for user 14\n",
    "ground_truth[ground_truth['user_id'] == 14]"
   ]
  },
  {
   "cell_type": "markdown",
   "metadata": {},
   "source": [
    "## Getting recommendations for each user\n",
    "\n",
    "With the prediction scores generated from our models, we obtain the video recommendations for each user. This is done by first filtering for videos that the user has not watched before, then sorting the predicted watch ratio in descending order."
   ]
  },
  {
   "cell_type": "code",
   "execution_count": 9,
   "metadata": {},
   "outputs": [
    {
     "name": "stderr",
     "output_type": "stream",
     "text": [
      "100%|██████████| 1411/1411 [00:05<00:00, 267.46it/s]\n",
      "100%|██████████| 1411/1411 [00:04<00:00, 301.95it/s]\n",
      "100%|██████████| 1411/1411 [00:05<00:00, 273.02it/s]\n"
     ]
    }
   ],
   "source": [
    "videos_in_test_data = set(joined_test_data['video_id'])\n",
    "\n",
    "recommendations_caption = eval_fns.get_user_recommendations(prediction_scores_caption, videos_in_test_data, user_watch_history)\n",
    "recommendations_ncf = eval_fns.get_user_recommendations(prediction_scores_ncf, videos_in_test_data, user_watch_history)\n",
    "recommendations_random = eval_fns.get_user_recommendations(prediction_scores_random, videos_in_test_data, user_watch_history)"
   ]
  },
  {
   "cell_type": "code",
   "execution_count": 10,
   "metadata": {},
   "outputs": [
    {
     "data": {
      "text/html": [
       "<div>\n",
       "<style scoped>\n",
       "    .dataframe tbody tr th:only-of-type {\n",
       "        vertical-align: middle;\n",
       "    }\n",
       "\n",
       "    .dataframe tbody tr th {\n",
       "        vertical-align: top;\n",
       "    }\n",
       "\n",
       "    .dataframe thead th {\n",
       "        text-align: right;\n",
       "    }\n",
       "</style>\n",
       "<table border=\"1\" class=\"dataframe\">\n",
       "  <thead>\n",
       "    <tr style=\"text-align: right;\">\n",
       "      <th></th>\n",
       "      <th>user_id</th>\n",
       "      <th>video_id</th>\n",
       "      <th>predicted_watch_ratio</th>\n",
       "      <th>cluster</th>\n",
       "    </tr>\n",
       "  </thead>\n",
       "  <tbody>\n",
       "    <tr>\n",
       "      <th>143915</th>\n",
       "      <td>14</td>\n",
       "      <td>1306</td>\n",
       "      <td>1.224071e+00</td>\n",
       "      <td>0</td>\n",
       "    </tr>\n",
       "    <tr>\n",
       "      <th>152254</th>\n",
       "      <td>14</td>\n",
       "      <td>1352</td>\n",
       "      <td>1.217318e+00</td>\n",
       "      <td>0</td>\n",
       "    </tr>\n",
       "    <tr>\n",
       "      <th>422868</th>\n",
       "      <td>14</td>\n",
       "      <td>4719</td>\n",
       "      <td>1.121088e+00</td>\n",
       "      <td>0</td>\n",
       "    </tr>\n",
       "    <tr>\n",
       "      <th>156289</th>\n",
       "      <td>14</td>\n",
       "      <td>1379</td>\n",
       "      <td>1.109590e+00</td>\n",
       "      <td>0</td>\n",
       "    </tr>\n",
       "    <tr>\n",
       "      <th>830672</th>\n",
       "      <td>14</td>\n",
       "      <td>10404</td>\n",
       "      <td>1.068774e+00</td>\n",
       "      <td>0</td>\n",
       "    </tr>\n",
       "    <tr>\n",
       "      <th>...</th>\n",
       "      <td>...</td>\n",
       "      <td>...</td>\n",
       "      <td>...</td>\n",
       "      <td>...</td>\n",
       "    </tr>\n",
       "    <tr>\n",
       "      <th>648559</th>\n",
       "      <td>14</td>\n",
       "      <td>7736</td>\n",
       "      <td>1.086311e-07</td>\n",
       "      <td>0</td>\n",
       "    </tr>\n",
       "    <tr>\n",
       "      <th>797585</th>\n",
       "      <td>14</td>\n",
       "      <td>9986</td>\n",
       "      <td>8.865571e-08</td>\n",
       "      <td>0</td>\n",
       "    </tr>\n",
       "    <tr>\n",
       "      <th>130465</th>\n",
       "      <td>14</td>\n",
       "      <td>1166</td>\n",
       "      <td>2.004953e-08</td>\n",
       "      <td>0</td>\n",
       "    </tr>\n",
       "    <tr>\n",
       "      <th>811573</th>\n",
       "      <td>14</td>\n",
       "      <td>10140</td>\n",
       "      <td>1.299631e-09</td>\n",
       "      <td>0</td>\n",
       "    </tr>\n",
       "    <tr>\n",
       "      <th>515404</th>\n",
       "      <td>14</td>\n",
       "      <td>5961</td>\n",
       "      <td>6.616041e-12</td>\n",
       "      <td>0</td>\n",
       "    </tr>\n",
       "  </tbody>\n",
       "</table>\n",
       "<p>226 rows × 4 columns</p>\n",
       "</div>"
      ],
      "text/plain": [
       "        user_id  video_id  predicted_watch_ratio  cluster\n",
       "143915       14      1306           1.224071e+00        0\n",
       "152254       14      1352           1.217318e+00        0\n",
       "422868       14      4719           1.121088e+00        0\n",
       "156289       14      1379           1.109590e+00        0\n",
       "830672       14     10404           1.068774e+00        0\n",
       "...         ...       ...                    ...      ...\n",
       "648559       14      7736           1.086311e-07        0\n",
       "797585       14      9986           8.865571e-08        0\n",
       "130465       14      1166           2.004953e-08        0\n",
       "811573       14     10140           1.299631e-09        0\n",
       "515404       14      5961           6.616041e-12        0\n",
       "\n",
       "[226 rows x 4 columns]"
      ]
     },
     "execution_count": 10,
     "metadata": {},
     "output_type": "execute_result"
    }
   ],
   "source": [
    "# Recommendations from NCF mdoel for user 14\n",
    "recommendations_ncf[recommendations_ncf['user_id'] == 14]"
   ]
  },
  {
   "cell_type": "markdown",
   "metadata": {},
   "source": [
    "## Calculation of Evaluation Metrics\n",
    "\n",
    "We have chosen various evaluation metrics to provide a comprehensive evaluation of our models' performance. They can be grouped into 3 broad categories - Engagement, Relevance and Diversity.\n",
    "\n",
    "### Engagement\n",
    "1. **Average Watch Ratio @ k**: Measures the average proportion of content that users watch across all recommended videos.\n",
    "\n",
    "### Relevance\n",
    "1. **Precision@k**: Proportion of recommended videos in top K that are relevant.\n",
    "\n",
    "2. **Recall@k**: Proportion of all relevant videos that appear in top K recommendations.\n",
    "\n",
    "3. **F1-Score@k**: The harmonic mean of precision and recall at K, balancing the trade-off between recommending relevant videos (precision) and capturing all relevant videos (recall). \n",
    "\n",
    "As these metrics require a binary label, we establish a threshold for predicted_watch_ratio of 0.7, where if a video has `predicted_watch_ratio` >= 0.7: relevant, `predicted_watch_ratio` < 0.7: irrelevant.\n",
    "\n",
    "### Diversity\n",
    "1. **Category-Aware NDCG @ k**: Measures how well the recommended videos' category distribution matches the user's true category preference ranking.\n",
    "\n",
    "2. **Distinct Categories @ k**: Number of distinct categories that appear in the top K recommendations.\n",
    "\n",
    "\n",
    "We have chosen k to be 100."
   ]
  },
  {
   "cell_type": "code",
   "execution_count": 11,
   "metadata": {},
   "outputs": [],
   "source": [
    "k = 100\n",
    "threshold = 0.7"
   ]
  },
  {
   "cell_type": "code",
   "execution_count": 12,
   "metadata": {},
   "outputs": [],
   "source": [
    "reco_grp_caption = recommendations_caption.groupby('user_id')\n",
    "reco_grp_ncf = recommendations_ncf.groupby('user_id')\n",
    "reco_grp_random = recommendations_random.groupby('user_id')\n",
    "ground_truth_grp = ground_truth.groupby('user_id')"
   ]
  },
  {
   "cell_type": "markdown",
   "metadata": {},
   "source": [
    "### Performance Across Models"
   ]
  },
  {
   "cell_type": "code",
   "execution_count": 13,
   "metadata": {},
   "outputs": [
    {
     "name": "stderr",
     "output_type": "stream",
     "text": [
      "100%|██████████| 1411/1411 [01:11<00:00, 19.86it/s]\n",
      "100%|██████████| 1411/1411 [00:52<00:00, 27.04it/s]\n",
      "100%|██████████| 1411/1411 [00:01<00:00, 932.52it/s]\n",
      "100%|██████████| 1411/1411 [00:36<00:00, 38.82it/s]\n",
      "100%|██████████| 1411/1411 [01:26<00:00, 16.34it/s]\n",
      "100%|██████████| 1411/1411 [00:38<00:00, 36.26it/s]\n",
      "100%|██████████| 1411/1411 [00:02<00:00, 614.88it/s]\n",
      "100%|██████████| 1411/1411 [00:25<00:00, 54.35it/s]\n",
      "100%|██████████| 1411/1411 [01:00<00:00, 23.51it/s]\n",
      "100%|██████████| 1411/1411 [00:37<00:00, 38.01it/s]\n",
      "100%|██████████| 1411/1411 [00:02<00:00, 684.49it/s]\n",
      "100%|██████████| 1411/1411 [00:55<00:00, 25.39it/s]\n"
     ]
    }
   ],
   "source": [
    "metrics_df_caption = eval_fns.get_all_metrics(k, ground_truth_grp, reco_grp_caption, video_data, threshold, by_cluster = False)\n",
    "metrics_df_ncf = eval_fns.get_all_metrics(k, ground_truth_grp, reco_grp_ncf, video_data, threshold, by_cluster = False)\n",
    "metrics_df_random = eval_fns.get_all_metrics(k, ground_truth_grp, reco_grp_random, video_data, threshold, by_cluster = False)"
   ]
  },
  {
   "cell_type": "code",
   "execution_count": null,
   "metadata": {},
   "outputs": [
    {
     "data": {
      "text/html": [
       "<div>\n",
       "<style scoped>\n",
       "    .dataframe tbody tr th:only-of-type {\n",
       "        vertical-align: middle;\n",
       "    }\n",
       "\n",
       "    .dataframe tbody tr th {\n",
       "        vertical-align: top;\n",
       "    }\n",
       "\n",
       "    .dataframe thead th {\n",
       "        text-align: right;\n",
       "    }\n",
       "</style>\n",
       "<table border=\"1\" class=\"dataframe\">\n",
       "  <thead>\n",
       "    <tr style=\"text-align: right;\">\n",
       "      <th></th>\n",
       "      <th>Avg Watch Ratio @ 100</th>\n",
       "      <th>Avg Precision@100</th>\n",
       "      <th>Avg Recall@100</th>\n",
       "      <th>Avg F1@100</th>\n",
       "      <th>Category-Aware NDCG @ 100</th>\n",
       "      <th>Distinct Categories @ 100</th>\n",
       "    </tr>\n",
       "  </thead>\n",
       "  <tbody>\n",
       "    <tr>\n",
       "      <th>Neural Collaborative Filtering with Time Decay</th>\n",
       "      <td>0.937810</td>\n",
       "      <td>0.629683</td>\n",
       "      <td>0.775293</td>\n",
       "      <td>0.676081</td>\n",
       "      <td>0.970287</td>\n",
       "      <td>25.734940</td>\n",
       "    </tr>\n",
       "    <tr>\n",
       "      <th>Caption-based Video Filtering with Time Decay</th>\n",
       "      <td>0.821867</td>\n",
       "      <td>0.534254</td>\n",
       "      <td>0.662118</td>\n",
       "      <td>0.575053</td>\n",
       "      <td>0.907141</td>\n",
       "      <td>21.408930</td>\n",
       "    </tr>\n",
       "    <tr>\n",
       "      <th>Random</th>\n",
       "      <td>0.797052</td>\n",
       "      <td>0.510781</td>\n",
       "      <td>0.635939</td>\n",
       "      <td>0.550876</td>\n",
       "      <td>0.929594</td>\n",
       "      <td>26.715804</td>\n",
       "    </tr>\n",
       "  </tbody>\n",
       "</table>\n",
       "</div>"
      ],
      "text/plain": [
       "                                                Avg Watch Ratio @ 100  \\\n",
       "Neural Collaborative Filtering with Time Decay               0.937810   \n",
       "Caption-based Video Filtering with Time Decay                0.821867   \n",
       "Random                                                       0.797052   \n",
       "\n",
       "                                                Avg Precision@100  \\\n",
       "Neural Collaborative Filtering with Time Decay           0.629683   \n",
       "Caption-based Video Filtering with Time Decay            0.534254   \n",
       "Random                                                   0.510781   \n",
       "\n",
       "                                                Avg Recall@100  Avg F1@100  \\\n",
       "Neural Collaborative Filtering with Time Decay        0.775293    0.676081   \n",
       "Caption-based Video Filtering with Time Decay         0.662118    0.575053   \n",
       "Random                                                0.635939    0.550876   \n",
       "\n",
       "                                                Category-Aware NDCG @ 100  \\\n",
       "Neural Collaborative Filtering with Time Decay                   0.970287   \n",
       "Caption-based Video Filtering with Time Decay                    0.907141   \n",
       "Random                                                           0.929594   \n",
       "\n",
       "                                                Distinct Categories @ 100  \n",
       "Neural Collaborative Filtering with Time Decay                  25.734940  \n",
       "Caption-based Video Filtering with Time Decay                   21.408930  \n",
       "Random                                                          26.715804  "
      ]
     },
     "execution_count": 17,
     "metadata": {},
     "output_type": "execute_result"
    }
   ],
   "source": [
    "# Concatenate the metrics dataframes\n",
    "metrics_combined = pd.concat([metrics_df_ncf, metrics_df_caption, metrics_df_random], axis=0)\n",
    "\n",
    "# Add model names\n",
    "metrics_combined.index = ['Neural Collaborative Filtering with Time Decay', 'Caption-based Video Filtering with Time Decay', 'Random']\n",
    "\n",
    "metrics_combined.drop(columns=['cluster'], inplace=True)\n",
    "\n",
    "metrics_combined"
   ]
  },
  {
   "cell_type": "markdown",
   "metadata": {},
   "source": [
    "## NCF Model Performance\n",
    "\n",
    "Previously, we segmented users into four distinct clusters based on their behavioral patterns, in hopes to capture subtle patterns unique to each group and improve model performance. Let us see if performance is indeed better with customer segmentation. "
   ]
  },
  {
   "cell_type": "markdown",
   "metadata": {},
   "source": [
    "### Performance With User Segmentation"
   ]
  },
  {
   "cell_type": "code",
   "execution_count": 19,
   "metadata": {},
   "outputs": [
    {
     "name": "stderr",
     "output_type": "stream",
     "text": [
      "  0%|          | 0/269 [00:00<?, ?it/s]"
     ]
    },
    {
     "name": "stderr",
     "output_type": "stream",
     "text": [
      "100%|██████████| 269/269 [00:30<00:00,  8.90it/s]\n",
      "100%|██████████| 419/419 [00:46<00:00,  8.97it/s]\n",
      "100%|██████████| 345/345 [00:38<00:00,  8.93it/s]\n",
      "100%|██████████| 378/378 [00:41<00:00,  9.19it/s]\n",
      "100%|██████████| 269/269 [00:10<00:00, 24.63it/s]\n",
      "100%|██████████| 419/419 [00:16<00:00, 24.72it/s]\n",
      "100%|██████████| 345/345 [00:14<00:00, 23.48it/s]\n",
      "100%|██████████| 378/378 [00:15<00:00, 23.80it/s]\n",
      "100%|██████████| 269/269 [00:06<00:00, 38.70it/s]\n",
      "100%|██████████| 419/419 [00:10<00:00, 41.07it/s]\n",
      "100%|██████████| 345/345 [00:08<00:00, 40.92it/s]\n",
      "100%|██████████| 378/378 [00:09<00:00, 41.01it/s]\n",
      "100%|██████████| 269/269 [00:14<00:00, 18.08it/s]\n",
      "100%|██████████| 419/419 [00:23<00:00, 18.19it/s]\n",
      "100%|██████████| 345/345 [00:18<00:00, 18.35it/s]\n",
      "100%|██████████| 378/378 [00:20<00:00, 18.17it/s]\n"
     ]
    }
   ],
   "source": [
    "metrics_ncf_per_cluster = eval_fns.get_all_metrics(k, ground_truth, recommendations_ncf, video_data, threshold, by_cluster=True)"
   ]
  },
  {
   "cell_type": "code",
   "execution_count": null,
   "metadata": {},
   "outputs": [
    {
     "data": {
      "text/html": [
       "<div>\n",
       "<style scoped>\n",
       "    .dataframe tbody tr th:only-of-type {\n",
       "        vertical-align: middle;\n",
       "    }\n",
       "\n",
       "    .dataframe tbody tr th {\n",
       "        vertical-align: top;\n",
       "    }\n",
       "\n",
       "    .dataframe thead th {\n",
       "        text-align: right;\n",
       "    }\n",
       "</style>\n",
       "<table border=\"1\" class=\"dataframe\">\n",
       "  <thead>\n",
       "    <tr style=\"text-align: right;\">\n",
       "      <th></th>\n",
       "      <th>cluster</th>\n",
       "      <th>Avg Watch Ratio @ 100</th>\n",
       "      <th>Avg Precision@100</th>\n",
       "      <th>Avg Recall@100</th>\n",
       "      <th>Avg F1@100</th>\n",
       "      <th>Category-Aware NDCG @ 100</th>\n",
       "      <th>Distinct Categories @ 100</th>\n",
       "    </tr>\n",
       "  </thead>\n",
       "  <tbody>\n",
       "    <tr>\n",
       "      <th>0</th>\n",
       "      <td>0</td>\n",
       "      <td>0.955919</td>\n",
       "      <td>0.609204</td>\n",
       "      <td>0.760632</td>\n",
       "      <td>0.657452</td>\n",
       "      <td>0.967586</td>\n",
       "      <td>26.230483</td>\n",
       "    </tr>\n",
       "    <tr>\n",
       "      <th>0</th>\n",
       "      <td>1</td>\n",
       "      <td>0.941045</td>\n",
       "      <td>0.654094</td>\n",
       "      <td>0.768648</td>\n",
       "      <td>0.686297</td>\n",
       "      <td>0.970797</td>\n",
       "      <td>25.842482</td>\n",
       "    </tr>\n",
       "    <tr>\n",
       "      <th>0</th>\n",
       "      <td>2</td>\n",
       "      <td>0.916312</td>\n",
       "      <td>0.609012</td>\n",
       "      <td>0.780041</td>\n",
       "      <td>0.665949</td>\n",
       "      <td>0.970502</td>\n",
       "      <td>25.637681</td>\n",
       "    </tr>\n",
       "    <tr>\n",
       "      <th>0</th>\n",
       "      <td>3</td>\n",
       "      <td>0.940958</td>\n",
       "      <td>0.636063</td>\n",
       "      <td>0.788758</td>\n",
       "      <td>0.687261</td>\n",
       "      <td>0.971448</td>\n",
       "      <td>25.351852</td>\n",
       "    </tr>\n",
       "    <tr>\n",
       "      <th>0</th>\n",
       "      <td>Overall</td>\n",
       "      <td>0.937810</td>\n",
       "      <td>0.629683</td>\n",
       "      <td>0.775293</td>\n",
       "      <td>0.676081</td>\n",
       "      <td>0.970287</td>\n",
       "      <td>25.734940</td>\n",
       "    </tr>\n",
       "  </tbody>\n",
       "</table>\n",
       "</div>"
      ],
      "text/plain": [
       "   cluster  Avg Watch Ratio @ 100  Avg Precision@100  Avg Recall@100  \\\n",
       "0        0               0.955919           0.609204        0.760632   \n",
       "0        1               0.941045           0.654094        0.768648   \n",
       "0        2               0.916312           0.609012        0.780041   \n",
       "0        3               0.940958           0.636063        0.788758   \n",
       "0  Overall               0.937810           0.629683        0.775293   \n",
       "\n",
       "   Avg F1@100  Category-Aware NDCG @ 100  Distinct Categories @ 100  \n",
       "0    0.657452                   0.967586                  26.230483  \n",
       "0    0.686297                   0.970797                  25.842482  \n",
       "0    0.665949                   0.970502                  25.637681  \n",
       "0    0.687261                   0.971448                  25.351852  \n",
       "0    0.676081                   0.970287                  25.734940  "
      ]
     },
     "execution_count": 22,
     "metadata": {},
     "output_type": "execute_result"
    },
    {
     "ename": "",
     "evalue": "",
     "output_type": "error",
     "traceback": [
      "\u001b[1;31mThe Kernel crashed while executing code in the current cell or a previous cell. \n",
      "\u001b[1;31mPlease review the code in the cell(s) to identify a possible cause of the failure. \n",
      "\u001b[1;31mClick <a href='https://aka.ms/vscodeJupyterKernelCrash'>here</a> for more info. \n",
      "\u001b[1;31mView Jupyter <a href='command:jupyter.viewOutput'>log</a> for further details."
     ]
    }
   ],
   "source": [
    "metrics_ncf_per_cluster"
   ]
  },
  {
   "cell_type": "markdown",
   "metadata": {},
   "source": [
    "### Performance Without Segmentation"
   ]
  },
  {
   "cell_type": "code",
   "execution_count": null,
   "metadata": {},
   "outputs": [],
   "source": []
  },
  {
   "cell_type": "code",
   "execution_count": null,
   "metadata": {},
   "outputs": [],
   "source": []
  }
 ],
 "metadata": {
  "kernelspec": {
   "display_name": "Python 3",
   "language": "python",
   "name": "python3"
  },
  "language_info": {
   "codemirror_mode": {
    "name": "ipython",
    "version": 3
   },
   "file_extension": ".py",
   "mimetype": "text/x-python",
   "name": "python",
   "nbconvert_exporter": "python",
   "pygments_lexer": "ipython3",
   "version": "3.11.0"
  }
 },
 "nbformat": 4,
 "nbformat_minor": 2
}
