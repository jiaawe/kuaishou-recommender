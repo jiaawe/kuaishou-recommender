{
 "cells": [
  {
   "cell_type": "code",
   "execution_count": 61,
   "metadata": {},
   "outputs": [],
   "source": [
    "import pandas as pd\n",
    "import seaborn as sns\n",
    "import matplotlib.pyplot as plt\n",
    "from datetime import datetime, timedelta\n",
    "from sklearn.preprocessing import StandardScaler, OrdinalEncoder\n",
    "from sklearn.compose import ColumnTransformer\n",
    "import umap\n",
    "import numpy as np\n",
    "import hdbscan\n",
    "import matplotlib.pyplot as plt\n",
    "import seaborn as sns"
   ]
  },
  {
   "cell_type": "code",
   "execution_count": 15,
   "metadata": {},
   "outputs": [
    {
     "name": "stdout",
     "output_type": "stream",
     "text": [
      "Before dropping na: 4676570\n",
      "After dropping na: 4494578\n"
     ]
    }
   ],
   "source": [
    "# Load dataset\n",
    "rootpath = \"../KuaiRec 2.0/\"\n",
    "small_matrix = pd.read_csv(rootpath + \"data/small_matrix.csv\")\n",
    "print(f\"Before dropping na values: {len(small_matrix)}\")\n",
    "small_matrix = small_matrix.dropna()\n",
    "print(f\"After dropping na values: {len(small_matrix)}\")"
   ]
  },
  {
   "cell_type": "markdown",
   "metadata": {},
   "source": [
    "# User Segmentation"
   ]
  },
  {
   "cell_type": "markdown",
   "metadata": {},
   "source": [
    "## Temporal Features"
   ]
  },
  {
   "cell_type": "markdown",
   "metadata": {},
   "source": [
    "### Hour, Day of Week & Date"
   ]
  },
  {
   "cell_type": "code",
   "execution_count": 16,
   "metadata": {},
   "outputs": [],
   "source": [
    "small_matrix['time'] = pd.to_datetime(small_matrix['time'])"
   ]
  },
  {
   "cell_type": "code",
   "execution_count": 24,
   "metadata": {},
   "outputs": [],
   "source": [
    "small_matrix['hour'] = small_matrix['time'].dt.hour\n",
    "small_matrix['day_of_week'] = small_matrix['time'].dt.dayofweek\n",
    "small_matrix['date'] = small_matrix['time'].dt.date"
   ]
  },
  {
   "cell_type": "markdown",
   "metadata": {},
   "source": [
    "### Weekends & Day/Night"
   ]
  },
  {
   "cell_type": "code",
   "execution_count": 18,
   "metadata": {},
   "outputs": [],
   "source": [
    "small_matrix['is_weekend'] = small_matrix['day_of_week'].isin([5, 6]).astype(int)\n",
    "small_matrix['time_bin'] = pd.cut(small_matrix['hour'], \n",
    "                                  bins=[0, 6, 12, 18, 24], \n",
    "                                  labels=['Midnight', 'Morning', 'Afternoon', 'Evening'])"
   ]
  },
  {
   "cell_type": "markdown",
   "metadata": {},
   "source": [
    "### Average watch time (per day)"
   ]
  },
  {
   "cell_type": "code",
   "execution_count": 20,
   "metadata": {},
   "outputs": [],
   "source": [
    "daily_watch_time = small_matrix.groupby(['user_id', 'date'])['play_duration'].sum().reset_index()\n",
    "avg_daily_watch_time = daily_watch_time.groupby('user_id')['play_duration'].mean().reset_index()\n",
    "avg_daily_watch_time.columns = ['user_id', 'avg_daily_watch_time']"
   ]
  },
  {
   "cell_type": "markdown",
   "metadata": {},
   "source": [
    "### Watch Frequency"
   ]
  },
  {
   "cell_type": "code",
   "execution_count": 22,
   "metadata": {},
   "outputs": [],
   "source": [
    "# also average number of videos viewed per day\n",
    "small_matrix['days_since_first_watch'] = (small_matrix['time'].max() - small_matrix.groupby('user_id')['time'].transform('min')).dt.days\n",
    "small_matrix['watch_frequency'] = small_matrix.groupby('user_id')['user_id'].transform('count') / (small_matrix['days_since_first_watch'] + 1)"
   ]
  },
  {
   "cell_type": "markdown",
   "metadata": {},
   "source": [
    "### Aggregating user features"
   ]
  },
  {
   "cell_type": "code",
   "execution_count": 44,
   "metadata": {},
   "outputs": [],
   "source": [
    "# aggregate watch frequency and is_weekend\n",
    "user_features = small_matrix.groupby('user_id').agg({\n",
    "    'is_weekend': 'mean',\n",
    "    'watch_frequency': 'mean',\n",
    "}).reset_index()\n",
    "\n",
    "# add in counts of time bins\n",
    "time_bin_counts = small_matrix.groupby('user_id')['time_bin'].value_counts().unstack(fill_value=0)\n",
    "time_bin_counts.columns = [f'count_{col.lower()}_views' for col in time_bin_counts.columns]\n",
    "user_features = user_features.merge(time_bin_counts, on='user_id', how='outer')\n",
    "\n",
    "# add in average watch time (per day)\n",
    "user_features = user_features.merge(avg_daily_watch_time, on='user_id', how='outer')"
   ]
  },
  {
   "cell_type": "markdown",
   "metadata": {},
   "source": [
    "### Merging with other user features"
   ]
  },
  {
   "cell_type": "code",
   "execution_count": 47,
   "metadata": {},
   "outputs": [],
   "source": [
    "users = pd.read_csv(rootpath + \"data/user_features.csv\")"
   ]
  },
  {
   "cell_type": "code",
   "execution_count": 50,
   "metadata": {},
   "outputs": [],
   "source": [
    "users_subset = users[['user_id', 'user_active_degree', 'friend_user_num', 'follow_user_num']]\n",
    "user_features = user_features.merge(users_subset, on='user_id', how='left')"
   ]
  },
  {
   "cell_type": "code",
   "execution_count": 51,
   "metadata": {},
   "outputs": [
    {
     "data": {
      "text/html": [
       "<div>\n",
       "<style scoped>\n",
       "    .dataframe tbody tr th:only-of-type {\n",
       "        vertical-align: middle;\n",
       "    }\n",
       "\n",
       "    .dataframe tbody tr th {\n",
       "        vertical-align: top;\n",
       "    }\n",
       "\n",
       "    .dataframe thead th {\n",
       "        text-align: right;\n",
       "    }\n",
       "</style>\n",
       "<table border=\"1\" class=\"dataframe\">\n",
       "  <thead>\n",
       "    <tr style=\"text-align: right;\">\n",
       "      <th></th>\n",
       "      <th>user_id</th>\n",
       "      <th>is_weekend</th>\n",
       "      <th>watch_frequency</th>\n",
       "      <th>count_night_views</th>\n",
       "      <th>count_morning_views</th>\n",
       "      <th>count_afternoon_views</th>\n",
       "      <th>count_evening_views</th>\n",
       "      <th>avg_daily_watch_time</th>\n",
       "      <th>user_active_degree</th>\n",
       "      <th>friend_user_num</th>\n",
       "      <th>follow_user_num</th>\n",
       "    </tr>\n",
       "  </thead>\n",
       "  <tbody>\n",
       "    <tr>\n",
       "      <th>0</th>\n",
       "      <td>14</td>\n",
       "      <td>0.247372</td>\n",
       "      <td>51.333333</td>\n",
       "      <td>1462</td>\n",
       "      <td>331</td>\n",
       "      <td>358</td>\n",
       "      <td>818</td>\n",
       "      <td>494038.968254</td>\n",
       "      <td>full_active</td>\n",
       "      <td>1</td>\n",
       "      <td>73</td>\n",
       "    </tr>\n",
       "    <tr>\n",
       "      <th>1</th>\n",
       "      <td>19</td>\n",
       "      <td>0.287855</td>\n",
       "      <td>50.841270</td>\n",
       "      <td>3</td>\n",
       "      <td>1774</td>\n",
       "      <td>1425</td>\n",
       "      <td>1</td>\n",
       "      <td>402150.539683</td>\n",
       "      <td>full_active</td>\n",
       "      <td>1</td>\n",
       "      <td>3</td>\n",
       "    </tr>\n",
       "    <tr>\n",
       "      <th>2</th>\n",
       "      <td>21</td>\n",
       "      <td>0.308145</td>\n",
       "      <td>51.253968</td>\n",
       "      <td>666</td>\n",
       "      <td>967</td>\n",
       "      <td>1109</td>\n",
       "      <td>442</td>\n",
       "      <td>459509.349206</td>\n",
       "      <td>high_active</td>\n",
       "      <td>0</td>\n",
       "      <td>63</td>\n",
       "    </tr>\n",
       "    <tr>\n",
       "      <th>3</th>\n",
       "      <td>23</td>\n",
       "      <td>0.263041</td>\n",
       "      <td>50.206349</td>\n",
       "      <td>218</td>\n",
       "      <td>1174</td>\n",
       "      <td>1321</td>\n",
       "      <td>447</td>\n",
       "      <td>518617.377049</td>\n",
       "      <td>full_active</td>\n",
       "      <td>0</td>\n",
       "      <td>94</td>\n",
       "    </tr>\n",
       "    <tr>\n",
       "      <th>4</th>\n",
       "      <td>24</td>\n",
       "      <td>0.267212</td>\n",
       "      <td>50.492063</td>\n",
       "      <td>227</td>\n",
       "      <td>1276</td>\n",
       "      <td>1118</td>\n",
       "      <td>443</td>\n",
       "      <td>421845.500000</td>\n",
       "      <td>full_active</td>\n",
       "      <td>0</td>\n",
       "      <td>59</td>\n",
       "    </tr>\n",
       "  </tbody>\n",
       "</table>\n",
       "</div>"
      ],
      "text/plain": [
       "   user_id  is_weekend  watch_frequency  count_night_views  \\\n",
       "0       14    0.247372        51.333333               1462   \n",
       "1       19    0.287855        50.841270                  3   \n",
       "2       21    0.308145        51.253968                666   \n",
       "3       23    0.263041        50.206349                218   \n",
       "4       24    0.267212        50.492063                227   \n",
       "\n",
       "   count_morning_views  count_afternoon_views  count_evening_views  \\\n",
       "0                  331                    358                  818   \n",
       "1                 1774                   1425                    1   \n",
       "2                  967                   1109                  442   \n",
       "3                 1174                   1321                  447   \n",
       "4                 1276                   1118                  443   \n",
       "\n",
       "   avg_daily_watch_time user_active_degree  friend_user_num  follow_user_num  \n",
       "0         494038.968254        full_active                1               73  \n",
       "1         402150.539683        full_active                1                3  \n",
       "2         459509.349206        high_active                0               63  \n",
       "3         518617.377049        full_active                0               94  \n",
       "4         421845.500000        full_active                0               59  "
      ]
     },
     "execution_count": 51,
     "metadata": {},
     "output_type": "execute_result"
    }
   ],
   "source": [
    "user_features.head()"
   ]
  },
  {
   "cell_type": "markdown",
   "metadata": {},
   "source": [
    "## User Segmentation"
   ]
  },
  {
   "cell_type": "code",
   "execution_count": 62,
   "metadata": {},
   "outputs": [],
   "source": [
    "numerical_features = [\n",
    "    'is_weekend', 'watch_frequency', 'count_night_views', 'count_morning_views',\n",
    "    'count_afternoon_views', 'count_evening_views', 'avg_daily_watch_time',\n",
    "    'friend_user_num', 'follow_user_num'\n",
    "]\n",
    "\n",
    "# ordinal features\n",
    "ordinal_features = ['user_active_degree']\n",
    "user_active_degree_categories = ['UNKNOWN', 'middle_active', 'full_active', 'high_active']\n",
    "\n",
    "X_numerical = user_features[numerical_features]\n",
    "X_ordinal = user_features[ordinal_features]\n",
    "\n",
    "# scale numerical features\n",
    "scaler = StandardScaler()\n",
    "X_numerical_scaled = scaler.fit_transform(X_numerical)\n",
    "\n",
    "# encode ordinal features\n",
    "ordinal_encoder = OrdinalEncoder(categories=[user_active_degree_categories])\n",
    "X_ordinal_encoded = ordinal_encoder.fit_transform(X_ordinal)\n",
    "\n",
    "# combine features\n",
    "X_preprocessed = np.hstack((X_numerical_scaled, X_ordinal_encoded))"
   ]
  },
  {
   "cell_type": "code",
   "execution_count": 67,
   "metadata": {},
   "outputs": [
    {
     "data": {
      "image/png": "[encoded data removed]",
      "text/plain": [
       "<Figure size 1000x600 with 1 Axes>"
      ]
     },
     "metadata": {},
     "output_type": "display_data"
    }
   ],
   "source": [
    "from sklearn.neighbors import NearestNeighbors\n",
    "\n",
    "def compute_nearest_neighbor_distances(X, k):\n",
    "    nbrs = NearestNeighbors(n_neighbors=k).fit(X)\n",
    "    distances, _ = nbrs.kneighbors(X)\n",
    "    return distances[:, -1]\n",
    "\n",
    "k_values = list(range(5, 51, 5))\n",
    "avg_distances = [np.mean(compute_nearest_neighbor_distances(X_preprocessed, k)) for k in k_values]\n",
    "\n",
    "plt.figure(figsize=(10, 6))\n",
    "plt.plot(k_values, avg_distances, marker='o')\n",
    "plt.xlabel('n_neighbors')\n",
    "plt.ylabel('Average distance to kth neighbor')\n",
    "plt.title('n_neighbors selection')\n",
    "plt.show()"
   ]
  },
  {
   "cell_type": "code",
   "execution_count": 69,
   "metadata": {},
   "outputs": [
    {
     "ename": "AttributeError",
     "evalue": "module 'umap' has no attribute 'Umap'",
     "output_type": "error",
     "traceback": [
      "\u001b[1;31m---------------------------------------------------------------------------\u001b[0m",
      "\u001b[1;31mAttributeError\u001b[0m                            Traceback (most recent call last)",
      "Cell \u001b[1;32mIn[69], line 1\u001b[0m\n\u001b[1;32m----> 1\u001b[0m \u001b[43mumap\u001b[49m\u001b[38;5;241;43m.\u001b[39;49m\u001b[43mUmap\u001b[49m\n",
      "\u001b[1;31mAttributeError\u001b[0m: module 'umap' has no attribute 'Umap'"
     ]
    }
   ],
   "source": [
    "umap.Umap"
   ]
  },
  {
   "cell_type": "code",
   "execution_count": 68,
   "metadata": {},
   "outputs": [
    {
     "ename": "AttributeError",
     "evalue": "module 'umap' has no attribute 'UMAP'",
     "output_type": "error",
     "traceback": [
      "\u001b[1;31m---------------------------------------------------------------------------\u001b[0m",
      "\u001b[1;31mAttributeError\u001b[0m                            Traceback (most recent call last)",
      "Cell \u001b[1;32mIn[68], line 11\u001b[0m\n\u001b[0;32m      8\u001b[0m clustering_scores \u001b[38;5;241m=\u001b[39m []\n\u001b[0;32m     10\u001b[0m \u001b[38;5;28;01mfor\u001b[39;00m n_components \u001b[38;5;129;01min\u001b[39;00m n_components_range:\n\u001b[1;32m---> 11\u001b[0m     umap_reducer \u001b[38;5;241m=\u001b[39m \u001b[43mumap\u001b[49m\u001b[38;5;241;43m.\u001b[39;49m\u001b[43mUMAP\u001b[49m(n_neighbors\u001b[38;5;241m=\u001b[39mn_neighbors, n_components\u001b[38;5;241m=\u001b[39mn_components, min_dist\u001b[38;5;241m=\u001b[39mmin_dist, random_state\u001b[38;5;241m=\u001b[39m\u001b[38;5;241m42\u001b[39m)\n\u001b[0;32m     12\u001b[0m     embedding \u001b[38;5;241m=\u001b[39m umap_reducer\u001b[38;5;241m.\u001b[39mfit_transform(X_preprocessed)\n\u001b[0;32m     14\u001b[0m     \u001b[38;5;66;03m# Compute reconstruction error\u001b[39;00m\n",
      "\u001b[1;31mAttributeError\u001b[0m: module 'umap' has no attribute 'UMAP'"
     ]
    }
   ],
   "source": [
    "n_neighbors = 15  # Choose based on the plot above\n",
    "min_dist = 0.1  # We'll tune this later\n",
    "\n",
    "max_components = min(X_preprocessed.shape[1], 20)  # Up to original dimensionality or 20, whichever is smaller\n",
    "n_components_range = range(2, max_components + 1)\n",
    "\n",
    "reconstruction_errors = []\n",
    "clustering_scores = []\n",
    "\n",
    "for n_components in n_components_range:\n",
    "    umap_reducer = umap.UMAP(n_neighbors=n_neighbors, n_components=n_components, min_dist=min_dist, random_state=42)\n",
    "    embedding = umap_reducer.fit_transform(X_preprocessed)\n",
    "    \n",
    "    # Compute reconstruction error\n",
    "    reconstruction = umap_reducer.inverse_transform(embedding)\n",
    "    error = np.mean(np.sum((X_preprocessed - reconstruction) ** 2, axis=1))\n",
    "    reconstruction_errors.append(error)\n",
    "    \n",
    "    # Compute clustering quality (using HDBSCAN and silhouette score)\n",
    "    clusterer = hdbscan.HDBSCAN(min_cluster_size=50, min_samples=5)\n",
    "    cluster_labels = clusterer.fit_predict(embedding)\n",
    "    if len(np.unique(cluster_labels)) > 1:  # Silhouette score needs at least 2 clusters\n",
    "        score = silhouette_score(embedding, cluster_labels)\n",
    "    else:\n",
    "        score = -1  # Assign a low score if only one cluster is found\n",
    "    clustering_scores.append(score)"
   ]
  },
  {
   "cell_type": "code",
   "execution_count": null,
   "metadata": {},
   "outputs": [],
   "source": []
  }
 ],
 "metadata": {
  "kernelspec": {
   "display_name": "Python 3",
   "language": "python",
   "name": "python3"
  },
  "language_info": {
   "codemirror_mode": {
    "name": "ipython",
    "version": 3
   },
   "file_extension": ".py",
   "mimetype": "text/x-python",
   "name": "python",
   "nbconvert_exporter": "python",
   "pygments_lexer": "ipython3",
   "version": "3.10.11"
  }
 },
 "nbformat": 4,
 "nbformat_minor": 2
}
