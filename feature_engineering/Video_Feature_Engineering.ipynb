{
 "cells": [
  {
   "cell_type": "code",
   "execution_count": 1,
   "metadata": {},
   "outputs": [],
   "source": [
    "import pandas as pd\n",
    "import seaborn as sns\n",
    "import matplotlib.pyplot as plt\n",
    "from datetime import datetime, timedelta\n",
    "import numpy as np\n",
    "import matplotlib.pyplot as plt\n",
    "import seaborn as sns\n",
    "\n",
    "# Adjust pandas to display comma as thousands separator\n",
    "pd.options.display.float_format = '{:,}'.format"
   ]
  },
  {
   "cell_type": "markdown",
   "metadata": {},
   "source": [
    "# item_daily_features.csv"
   ]
  },
  {
   "cell_type": "markdown",
   "metadata": {},
   "source": [
    "Key fields and potential use:\n",
    "1. video_id\n",
    "2. author_id\n",
    "3. video_type\n",
    "    - Distinguishes between normal videos and ads. You can filter ads out of recommendations or balance them according to the user’s interaction preferences with both types.\n",
    "4. upload_dt / date\n",
    "    - Helps track freshness and recency of content, prioritize newer content or trending videos.\n",
    "5. video_duration\n",
    "    - Videos with different durations might appeal to different users\n",
    "6. video_tag_id / video_tag_name\n",
    "    - content-based filtering (recommending videos with similar tags).\n",
    "7. show_cnt, play_cnt, complete_play_cnt\n",
    "    - popularity filtering. Videos with higher completion rates signal higher user satisfaction.\n",
    "    - Can calculate some new feature e.g. Complete Play Rate\n",
    "8. valid_play_cnt (/ valid_play_user_num)\n",
    "    - More refined measures of engagement that discount partial or irrelevant views, useful for calculating true user interest in a video.\n",
    "    - Can calculate some new feature e.g. Valid Play Rate   \n",
    "9. like_cnt, comment_cnt, follow_cnt, share_cnt\n",
    "    - Reflect explicit feedback and engagement, which is valuable for identifying user preferences.\n",
    "    - Can be used as features in a ranking model\n",
    "10. play_progress\n",
    "    - Higher play_progress indicates higher engagement\n",
    "11. visible_status\n",
    "    - Ensures that recommendations only include currently visible (public) videos."
   ]
  },
  {
   "cell_type": "code",
   "execution_count": 15,
   "metadata": {},
   "outputs": [
    {
     "name": "stdout",
     "output_type": "stream",
     "text": [
      "Total number of items: 343341\n"
     ]
    }
   ],
   "source": [
    "# Data is one level up in the folder structure\n",
    "rootpath = \"../KuaiRec 2.0/\"\n",
    "\n",
    "# Load videos and its features\n",
    "item_features_filepath = rootpath + \"data/item_daily_features.csv\"\n",
    "item_daily_features = pd.read_csv(item_features_filepath)\n",
    "\n",
    "# Load translated captions\n",
    "item_captions_filepath = rootpath + \"data/kuairec_caption_category_translated.csv\"\n",
    "translated_captions = pd.read_csv(item_captions_filepath)\n",
    "\n",
    "print(f'Total number of items: {len(item_daily_features)}')"
   ]
  },
  {
   "cell_type": "code",
   "execution_count": 16,
   "metadata": {},
   "outputs": [
    {
     "data": {
      "text/plain": [
       "Index(['video_id', 'manual_cover_text', 'caption', 'topic_tag',\n",
       "       'first_level_category_id', 'first_level_category_name',\n",
       "       'second_level_category_id', 'second_level_category_name',\n",
       "       'third_level_category_id', 'third_level_category_name',\n",
       "       'english_caption', 'english_first_level_category_name',\n",
       "       'english_second_level_category_name',\n",
       "       'english_third_level_category_name'],\n",
       "      dtype='object')"
      ]
     },
     "execution_count": 16,
     "metadata": {},
     "output_type": "execute_result"
    }
   ],
   "source": [
    "translated_captions.columns"
   ]
  },
  {
   "cell_type": "markdown",
   "metadata": {},
   "source": [
    "### Data Type conversion"
   ]
  },
  {
   "cell_type": "code",
   "execution_count": 17,
   "metadata": {},
   "outputs": [],
   "source": [
    "item_daily_features['date'] = pd.to_datetime(item_daily_features['date'], format='%Y%m%d')\n",
    "item_daily_features['upload_dt'] = pd.to_datetime(item_daily_features['date'], format='%Y-%m-%d')\n",
    "item_daily_features['video_id'] = item_daily_features['video_id'].astype(str)\n",
    "\n",
    "translated_captions['video_id'] = translated_captions['video_id'].astype(str)"
   ]
  },
  {
   "cell_type": "markdown",
   "metadata": {},
   "source": [
    "### Merge in video category from translated captions"
   ]
  },
  {
   "cell_type": "code",
   "execution_count": 44,
   "metadata": {},
   "outputs": [],
   "source": [
    "# Fill NA categories\n",
    "translated_captions['english_first_level_category_name'] = translated_captions['english_first_level_category_name'].fillna('None')\n",
    "translated_captions['english_second_level_category_name'] = translated_captions['english_second_level_category_name'].fillna('None')\n",
    "translated_captions['english_third_level_category_name'] = translated_captions['english_third_level_category_name'].fillna('None')\n",
    "\n",
    "# Merge in captions\n",
    "video_categories = translated_captions[['video_id', 'english_first_level_category_name', \n",
    "                                        'english_second_level_category_name', 'english_third_level_category_name'\n",
    "                                        ]]\n",
    "video_features = item_daily_features.merge(video_categories, on='video_id', how='left')"
   ]
  },
  {
   "cell_type": "markdown",
   "metadata": {},
   "source": [
    "### Complete Play Rate"
   ]
  },
  {
   "cell_type": "code",
   "execution_count": 45,
   "metadata": {},
   "outputs": [],
   "source": [
    "video_features['complete_play_rate'] = video_features['complete_play_cnt'] / video_features['play_cnt']"
   ]
  },
  {
   "cell_type": "markdown",
   "metadata": {},
   "source": [
    "### Valid Play Rate"
   ]
  },
  {
   "cell_type": "code",
   "execution_count": 46,
   "metadata": {},
   "outputs": [],
   "source": [
    "video_features['valid_play_rate'] = video_features['valid_play_cnt'] / video_features['play_cnt']"
   ]
  },
  {
   "cell_type": "markdown",
   "metadata": {},
   "source": [
    "### Like Rate"
   ]
  },
  {
   "cell_type": "code",
   "execution_count": 47,
   "metadata": {},
   "outputs": [],
   "source": [
    "video_features['like_rate'] = video_features['like_cnt'] / video_features['play_cnt']"
   ]
  },
  {
   "cell_type": "markdown",
   "metadata": {},
   "source": [
    "### Total Engagement"
   ]
  },
  {
   "cell_type": "code",
   "execution_count": 48,
   "metadata": {},
   "outputs": [],
   "source": [
    "video_features['total_engagement'] = video_features['like_cnt'] + video_features['comment_cnt'] + video_features['share_cnt']"
   ]
  },
  {
   "cell_type": "markdown",
   "metadata": {},
   "source": [
    "### Comment Rate"
   ]
  },
  {
   "cell_type": "code",
   "execution_count": 49,
   "metadata": {},
   "outputs": [],
   "source": [
    "# item_daily_features['comment_rate'] = item_daily_features['comment_cnt'] / item_daily_features['play_cnt']"
   ]
  },
  {
   "cell_type": "markdown",
   "metadata": {},
   "source": [
    "### Follow rate, Share rate"
   ]
  },
  {
   "cell_type": "code",
   "execution_count": 50,
   "metadata": {},
   "outputs": [],
   "source": [
    "# item_daily_features_public['follow_rate'] = item_daily_features_public['follow_cnt'] / item_daily_features_public['play_cnt']\n",
    "# item_daily_features_public['share_rate'] = item_daily_features_public['share_cnt'] / item_daily_features_public['play_cnt']"
   ]
  },
  {
   "cell_type": "markdown",
   "metadata": {},
   "source": [
    "### Rank topics by engagement"
   ]
  },
  {
   "cell_type": "code",
   "execution_count": 58,
   "metadata": {},
   "outputs": [],
   "source": [
    "# Get ranking of categories by total engagement\n",
    "first_level_category_engagement = video_features.groupby('english_first_level_category_name')['total_engagement'].sum().sort_values(ascending=False)\n",
    "first_level_category_engagement = first_level_category_engagement.reset_index()\n",
    "first_level_category_engagement = first_level_category_engagement[first_level_category_engagement['english_first_level_category_name'] != 'UNKNOWN'].reset_index()\n",
    "first_level_category_engagement['first_level_category_rank'] = first_level_category_engagement.index + 1\n",
    "\n",
    "# Calculate rankings for second level categories\n",
    "second_level_category_engagement = video_features.groupby('english_second_level_category_name')['total_engagement'].sum().sort_values(ascending=False)\n",
    "second_level_category_engagement = second_level_category_engagement.reset_index()\n",
    "second_level_category_engagement = second_level_category_engagement[second_level_category_engagement['english_second_level_category_name'] != 'UNKNOWN'].reset_index()\n",
    "second_level_category_engagement['second_level_category_rank'] = second_level_category_engagement.index + 1\n",
    "\n",
    "# Calculate rankings for third level categories\n",
    "third_level_category_engagement = video_features.groupby('english_third_level_category_name')['total_engagement'].sum().sort_values(ascending=False)\n",
    "third_level_category_engagement = third_level_category_engagement.reset_index()\n",
    "third_level_category_engagement = third_level_category_engagement[third_level_category_engagement['english_third_level_category_name'] != 'UNKNOWN'].reset_index()\n",
    "third_level_category_engagement['third_level_category_rank'] = third_level_category_engagement.index + 1\n",
    "\n",
    "# Merge rankings back into the main dataframe\n",
    "video_features_ranked = video_features.merge(first_level_category_engagement[['english_first_level_category_name', 'first_level_category_rank']], \n",
    "                                             on='english_first_level_category_name', how='left')\n",
    "video_features_ranked = video_features_ranked.merge(second_level_category_engagement[['english_second_level_category_name', 'second_level_category_rank']], \n",
    "                                                    on='english_second_level_category_name', how='left')\n",
    "video_features_ranked = video_features_ranked.merge(third_level_category_engagement[['english_third_level_category_name', 'third_level_category_rank']], \n",
    "                                                    on='english_third_level_category_name', how='left')\n",
    "\n",
    "# Fill NA rankings with -1\n",
    "video_features_ranked['first_level_category_rank'] = video_features_ranked['first_level_category_rank'].fillna(-1)\n",
    "video_features_ranked['second_level_category_rank'] = video_features_ranked['second_level_category_rank'].fillna(-1)\n",
    "video_features_ranked['third_level_category_rank'] = video_features_ranked['third_level_category_rank'].fillna(-1)"
   ]
  },
  {
   "cell_type": "code",
   "execution_count": 59,
   "metadata": {},
   "outputs": [
    {
     "data": {
      "text/html": [
       "<div>\n",
       "<style scoped>\n",
       "    .dataframe tbody tr th:only-of-type {\n",
       "        vertical-align: middle;\n",
       "    }\n",
       "\n",
       "    .dataframe tbody tr th {\n",
       "        vertical-align: top;\n",
       "    }\n",
       "\n",
       "    .dataframe thead th {\n",
       "        text-align: right;\n",
       "    }\n",
       "</style>\n",
       "<table border=\"1\" class=\"dataframe\">\n",
       "  <thead>\n",
       "    <tr style=\"text-align: right;\">\n",
       "      <th></th>\n",
       "      <th>video_id</th>\n",
       "      <th>english_first_level_category_name</th>\n",
       "      <th>english_second_level_category_name</th>\n",
       "      <th>english_third_level_category_name</th>\n",
       "      <th>total_engagement</th>\n",
       "      <th>first_level_category_rank</th>\n",
       "      <th>second_level_category_rank</th>\n",
       "      <th>third_level_category_rank</th>\n",
       "    </tr>\n",
       "  </thead>\n",
       "  <tbody>\n",
       "    <tr>\n",
       "      <th>0</th>\n",
       "      <td>0</td>\n",
       "      <td>Beauty index</td>\n",
       "      <td>Snap of good looks</td>\n",
       "      <td>UNKNOWN</td>\n",
       "      <td>586</td>\n",
       "      <td>5</td>\n",
       "      <td>5</td>\n",
       "      <td>-1</td>\n",
       "    </tr>\n",
       "    <tr>\n",
       "      <th>1</th>\n",
       "      <td>0</td>\n",
       "      <td>Beauty index</td>\n",
       "      <td>Snap of good looks</td>\n",
       "      <td>UNKNOWN</td>\n",
       "      <td>310</td>\n",
       "      <td>5</td>\n",
       "      <td>5</td>\n",
       "      <td>-1</td>\n",
       "    </tr>\n",
       "    <tr>\n",
       "      <th>2</th>\n",
       "      <td>0</td>\n",
       "      <td>Beauty index</td>\n",
       "      <td>Snap of good looks</td>\n",
       "      <td>UNKNOWN</td>\n",
       "      <td>210</td>\n",
       "      <td>5</td>\n",
       "      <td>5</td>\n",
       "      <td>-1</td>\n",
       "    </tr>\n",
       "    <tr>\n",
       "      <th>3</th>\n",
       "      <td>0</td>\n",
       "      <td>Beauty index</td>\n",
       "      <td>Snap of good looks</td>\n",
       "      <td>UNKNOWN</td>\n",
       "      <td>303</td>\n",
       "      <td>5</td>\n",
       "      <td>5</td>\n",
       "      <td>-1</td>\n",
       "    </tr>\n",
       "    <tr>\n",
       "      <th>4</th>\n",
       "      <td>0</td>\n",
       "      <td>Beauty index</td>\n",
       "      <td>Snap of good looks</td>\n",
       "      <td>UNKNOWN</td>\n",
       "      <td>312</td>\n",
       "      <td>5</td>\n",
       "      <td>5</td>\n",
       "      <td>-1</td>\n",
       "    </tr>\n",
       "  </tbody>\n",
       "</table>\n",
       "</div>"
      ],
      "text/plain": [
       "  video_id english_first_level_category_name  \\\n",
       "0        0                      Beauty index   \n",
       "1        0                      Beauty index   \n",
       "2        0                      Beauty index   \n",
       "3        0                      Beauty index   \n",
       "4        0                      Beauty index   \n",
       "\n",
       "  english_second_level_category_name english_third_level_category_name  \\\n",
       "0                 Snap of good looks                           UNKNOWN   \n",
       "1                 Snap of good looks                           UNKNOWN   \n",
       "2                 Snap of good looks                           UNKNOWN   \n",
       "3                 Snap of good looks                           UNKNOWN   \n",
       "4                 Snap of good looks                           UNKNOWN   \n",
       "\n",
       "   total_engagement  first_level_category_rank  second_level_category_rank  \\\n",
       "0               586                          5                           5   \n",
       "1               310                          5                           5   \n",
       "2               210                          5                           5   \n",
       "3               303                          5                           5   \n",
       "4               312                          5                           5   \n",
       "\n",
       "   third_level_category_rank  \n",
       "0                         -1  \n",
       "1                         -1  \n",
       "2                         -1  \n",
       "3                         -1  \n",
       "4                         -1  "
      ]
     },
     "execution_count": 59,
     "metadata": {},
     "output_type": "execute_result"
    }
   ],
   "source": [
    "video_features_ranked['first_level_category_rank'] = video_features_ranked['first_level_category_rank'].astype(int)\n",
    "video_features_ranked['second_level_category_rank'] = video_features_ranked['second_level_category_rank'].astype(int)\n",
    "video_features_ranked['third_level_category_rank'] = video_features_ranked['third_level_category_rank'].astype(int)\n",
    "\n",
    "video_features_ranked[['video_id', 'english_first_level_category_name', 'english_second_level_category_name', 'english_third_level_category_name', \n",
    "                       'total_engagement', 'first_level_category_rank', 'second_level_category_rank', 'third_level_category_rank']].head()"
   ]
  },
  {
   "cell_type": "markdown",
   "metadata": {},
   "source": [
    "### Summary Statistics"
   ]
  },
  {
   "cell_type": "code",
   "execution_count": 61,
   "metadata": {},
   "outputs": [
    {
     "data": {
      "text/html": [
       "<div>\n",
       "<style scoped>\n",
       "    .dataframe tbody tr th:only-of-type {\n",
       "        vertical-align: middle;\n",
       "    }\n",
       "\n",
       "    .dataframe tbody tr th {\n",
       "        vertical-align: top;\n",
       "    }\n",
       "\n",
       "    .dataframe thead th {\n",
       "        text-align: right;\n",
       "    }\n",
       "</style>\n",
       "<table border=\"1\" class=\"dataframe\">\n",
       "  <thead>\n",
       "    <tr style=\"text-align: right;\">\n",
       "      <th></th>\n",
       "      <th>complete_play_rate</th>\n",
       "      <th>valid_play_rate</th>\n",
       "      <th>like_rate</th>\n",
       "    </tr>\n",
       "  </thead>\n",
       "  <tbody>\n",
       "    <tr>\n",
       "      <th>count</th>\n",
       "      <td>320,250.0</td>\n",
       "      <td>320,250.0</td>\n",
       "      <td>320,254.0</td>\n",
       "    </tr>\n",
       "    <tr>\n",
       "      <th>mean</th>\n",
       "      <td>0.4003619374344328</td>\n",
       "      <td>0.48421184357229596</td>\n",
       "      <td>inf</td>\n",
       "    </tr>\n",
       "    <tr>\n",
       "      <th>std</th>\n",
       "      <td>0.21966359043721218</td>\n",
       "      <td>0.21709719112011905</td>\n",
       "      <td>NaN</td>\n",
       "    </tr>\n",
       "    <tr>\n",
       "      <th>min</th>\n",
       "      <td>0.0</td>\n",
       "      <td>0.0</td>\n",
       "      <td>0.0</td>\n",
       "    </tr>\n",
       "    <tr>\n",
       "      <th>25%</th>\n",
       "      <td>0.25</td>\n",
       "      <td>0.35294117647058826</td>\n",
       "      <td>0.0</td>\n",
       "    </tr>\n",
       "    <tr>\n",
       "      <th>50%</th>\n",
       "      <td>0.40903955553971805</td>\n",
       "      <td>0.5045877047777703</td>\n",
       "      <td>0.012998640535247614</td>\n",
       "    </tr>\n",
       "    <tr>\n",
       "      <th>75%</th>\n",
       "      <td>0.5490196078431373</td>\n",
       "      <td>0.6365094268903416</td>\n",
       "      <td>0.032313821810676345</td>\n",
       "    </tr>\n",
       "    <tr>\n",
       "      <th>max</th>\n",
       "      <td>1.0</td>\n",
       "      <td>1.0</td>\n",
       "      <td>inf</td>\n",
       "    </tr>\n",
       "  </tbody>\n",
       "</table>\n",
       "</div>"
      ],
      "text/plain": [
       "       complete_play_rate     valid_play_rate            like_rate\n",
       "count           320,250.0           320,250.0            320,254.0\n",
       "mean   0.4003619374344328 0.48421184357229596                  inf\n",
       "std   0.21966359043721218 0.21709719112011905                  NaN\n",
       "min                   0.0                 0.0                  0.0\n",
       "25%                  0.25 0.35294117647058826                  0.0\n",
       "50%   0.40903955553971805  0.5045877047777703 0.012998640535247614\n",
       "75%    0.5490196078431373  0.6365094268903416 0.032313821810676345\n",
       "max                   1.0                 1.0                  inf"
      ]
     },
     "execution_count": 61,
     "metadata": {},
     "output_type": "execute_result"
    }
   ],
   "source": [
    "video_features_ranked[['complete_play_rate', 'valid_play_rate', 'like_rate']].describe()"
   ]
  },
  {
   "cell_type": "code",
   "execution_count": 64,
   "metadata": {},
   "outputs": [
    {
     "data": {
      "text/html": [
       "<div>\n",
       "<style scoped>\n",
       "    .dataframe tbody tr th:only-of-type {\n",
       "        vertical-align: middle;\n",
       "    }\n",
       "\n",
       "    .dataframe tbody tr th {\n",
       "        vertical-align: top;\n",
       "    }\n",
       "\n",
       "    .dataframe thead th {\n",
       "        text-align: right;\n",
       "    }\n",
       "</style>\n",
       "<table border=\"1\" class=\"dataframe\">\n",
       "  <thead>\n",
       "    <tr style=\"text-align: right;\">\n",
       "      <th></th>\n",
       "      <th>first_level_category_rank</th>\n",
       "      <th>second_level_category_rank</th>\n",
       "      <th>third_level_category_rank</th>\n",
       "    </tr>\n",
       "  </thead>\n",
       "  <tbody>\n",
       "    <tr>\n",
       "      <th>count</th>\n",
       "      <td>343,341.0</td>\n",
       "      <td>343,341.0</td>\n",
       "      <td>343,341.0</td>\n",
       "    </tr>\n",
       "    <tr>\n",
       "      <th>mean</th>\n",
       "      <td>11.926720082949604</td>\n",
       "      <td>17.07682158553741</td>\n",
       "      <td>17.51892433469932</td>\n",
       "    </tr>\n",
       "    <tr>\n",
       "      <th>std</th>\n",
       "      <td>8.850229896661649</td>\n",
       "      <td>26.844964674366274</td>\n",
       "      <td>40.682704552753286</td>\n",
       "    </tr>\n",
       "    <tr>\n",
       "      <th>min</th>\n",
       "      <td>-1.0</td>\n",
       "      <td>-1.0</td>\n",
       "      <td>-1.0</td>\n",
       "    </tr>\n",
       "    <tr>\n",
       "      <th>25%</th>\n",
       "      <td>5.0</td>\n",
       "      <td>-1.0</td>\n",
       "      <td>-1.0</td>\n",
       "    </tr>\n",
       "    <tr>\n",
       "      <th>50%</th>\n",
       "      <td>10.0</td>\n",
       "      <td>4.0</td>\n",
       "      <td>-1.0</td>\n",
       "    </tr>\n",
       "    <tr>\n",
       "      <th>75%</th>\n",
       "      <td>17.0</td>\n",
       "      <td>23.0</td>\n",
       "      <td>13.0</td>\n",
       "    </tr>\n",
       "    <tr>\n",
       "      <th>max</th>\n",
       "      <td>40.0</td>\n",
       "      <td>141.0</td>\n",
       "      <td>221.0</td>\n",
       "    </tr>\n",
       "  </tbody>\n",
       "</table>\n",
       "</div>"
      ],
      "text/plain": [
       "       first_level_category_rank  second_level_category_rank  \\\n",
       "count                  343,341.0                   343,341.0   \n",
       "mean          11.926720082949604           17.07682158553741   \n",
       "std            8.850229896661649          26.844964674366274   \n",
       "min                         -1.0                        -1.0   \n",
       "25%                          5.0                        -1.0   \n",
       "50%                         10.0                         4.0   \n",
       "75%                         17.0                        23.0   \n",
       "max                         40.0                       141.0   \n",
       "\n",
       "       third_level_category_rank  \n",
       "count                  343,341.0  \n",
       "mean           17.51892433469932  \n",
       "std           40.682704552753286  \n",
       "min                         -1.0  \n",
       "25%                         -1.0  \n",
       "50%                         -1.0  \n",
       "75%                         13.0  \n",
       "max                        221.0  "
      ]
     },
     "execution_count": 64,
     "metadata": {},
     "output_type": "execute_result"
    }
   ],
   "source": [
    "video_features_ranked[['first_level_category_rank', 'second_level_category_rank', 'third_level_category_rank']].describe()"
   ]
  }
 ],
 "metadata": {
  "kernelspec": {
   "display_name": "Python 3",
   "language": "python",
   "name": "python3"
  },
  "language_info": {
   "codemirror_mode": {
    "name": "ipython",
    "version": 3
   },
   "file_extension": ".py",
   "mimetype": "text/x-python",
   "name": "python",
   "nbconvert_exporter": "python",
   "pygments_lexer": "ipython3",
   "version": "3.11.0"
  }
 },
 "nbformat": 4,
 "nbformat_minor": 2
}
