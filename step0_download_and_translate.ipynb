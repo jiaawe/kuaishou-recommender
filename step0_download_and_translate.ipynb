{
 "cells": [
  {
   "cell_type": "code",
   "execution_count": null,
   "metadata": {},
   "outputs": [],
   "source": [
    "import os\n",
    "import shutil\n",
    "import zipfile\n",
    "from google.colab import drive"
   ]
  },
  {
   "cell_type": "markdown",
   "metadata": {},
   "source": [
    "Mount drives and create necessary directories"
   ]
  },
  {
   "cell_type": "code",
   "execution_count": null,
   "metadata": {},
   "outputs": [],
   "source": [
    "print(\"Mounting Google Drive...\")\n",
    "drive.mount('/content/drive')"
   ]
  },
  {
   "cell_type": "code",
   "execution_count": null,
   "metadata": {},
   "outputs": [],
   "source": [
    "for directory in ['data', 'data_exports', 'recommendations']:\n",
    "    os.makedirs(directory, exist_ok=True)"
   ]
  },
  {
   "cell_type": "markdown",
   "metadata": {},
   "source": [
    "# Downloading KuaiRec Dataset\n",
    "\n",
    "The code below downloads the KuaiRec dataset, extracts it and moves the data directory to the root folder <br>\n",
    "\n",
    "You can also manually download the dataset from this link: https://kuairec.com/"
   ]
  },
  {
   "cell_type": "code",
   "execution_count": null,
   "metadata": {},
   "outputs": [],
   "source": [
    "# Download the KuaiRec dataset\n",
    "file_id = \"1qe5hOSBxzIuxBb1G_Ih5X-O65QElollE\"\n",
    "\n",
    "print(\"Downloading KuaiRec dataset...\")\n",
    "!gdown \"https://drive.google.com/uc?id={file_id}\"\n",
    "\n",
    "print(\"\\nExtracting files...\")\n",
    "with zipfile.ZipFile(\"KuaiRec.zip\", 'r') as zip_ref:\n",
    "    zip_ref.extractall()\n",
    "\n",
    "print(\"Cleaning up...\")\n",
    "os.remove(\"KuaiRec.zip\")\n",
    "\n",
    "print(\"Download and extraction complete!\")"
   ]
  },
  {
   "cell_type": "code",
   "execution_count": null,
   "metadata": {},
   "outputs": [],
   "source": [
    "if os.path.exists('KuaiRec 2.0'):\n",
    "    # Move the data folder to current directory\n",
    "    print(\"Moving data folder to current directory...\")\n",
    "    try:\n",
    "        # If a data folder already exists in current directory, remove it first\n",
    "        if os.path.exists('data'):\n",
    "            shutil.rmtree('data')\n",
    "        \n",
    "        # Move the data folder\n",
    "        shutil.move('KuaiRec 2.0/data', '.')\n",
    "        \n",
    "        # Clean up by removing the empty KuaiRec 2.0 directory\n",
    "        shutil.rmtree('KuaiRec 2.0')\n",
    "        \n",
    "        print(\"Data folder successfully moved to current directory!\")\n",
    "    except Exception as e:\n",
    "        print(f\"An error occurred: {e}\")\n",
    "else:\n",
    "    print(\"'KuaiRec 2.0' directory not found. Please check if the extraction was successful.\")\n",
    "\n",
    "# Verify the contents of the current directory\n",
    "print(\"\\nContents of current directory:\")\n",
    "!ls"
   ]
  },
  {
   "cell_type": "markdown",
   "metadata": {},
   "source": [
    "# Translating Captions and Categories\n",
    "\n",
    "This section runs the code to translate the fields in the dataset. The code is written in a python file under the translation folder. You need to run a LLM locally (we used Qwen2.5-14B) to translate some of these texts."
   ]
  },
  {
   "cell_type": "code",
   "execution_count": null,
   "metadata": {},
   "outputs": [],
   "source": [
    "from translation.translation import main"
   ]
  },
  {
   "cell_type": "code",
   "execution_count": null,
   "metadata": {},
   "outputs": [],
   "source": [
    "main()"
   ]
  }
 ],
 "metadata": {
  "kernelspec": {
   "display_name": "Python 3",
   "language": "python",
   "name": "python3"
  },
  "language_info": {
   "codemirror_mode": {
    "name": "ipython",
    "version": 3
   },
   "file_extension": ".py",
   "mimetype": "text/x-python",
   "name": "python",
   "nbconvert_exporter": "python",
   "pygments_lexer": "ipython3",
   "version": "3.10.11"
  }
 },
 "nbformat": 4,
 "nbformat_minor": 2
}
