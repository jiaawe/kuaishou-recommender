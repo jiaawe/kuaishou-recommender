{
 "cells": [
  {
   "cell_type": "code",
   "execution_count": null,
   "metadata": {},
   "outputs": [],
   "source": [
    "import os\n",
    "import shutil\n",
    "import zipfile\n",
    "from google.colab import drive"
   ]
  },
  {
   "cell_type": "markdown",
   "metadata": {},
   "source": [
    "## Set up"
   ]
  },
  {
   "cell_type": "code",
   "execution_count": null,
   "metadata": {},
   "outputs": [
    {
     "name": "stdout",
     "output_type": "stream",
     "text": [
      "Drive already mounted at /content/drive; to attempt to forcibly remount, call drive.mount(\"/content/drive\", force_remount=True).\n"
     ]
    }
   ],
   "source": [
    "drive.mount('/content/drive')"
   ]
  },
  {
   "cell_type": "markdown",
   "metadata": {},
   "source": [
    "Mount drives and create necessary directories"
   ]
  },
  {
   "cell_type": "code",
   "execution_count": null,
   "metadata": {},
   "outputs": [],
   "source": [
    "print(\"Mounting Google Drive...\")\n",
    "\n",
    "drive.mount('/content/drive')"
   ]
  },
  {
   "cell_type": "code",
   "execution_count": null,
   "metadata": {},
   "outputs": [],
   "source": [
    "for directory in ['data', 'data_exports', 'recommendations']:\n",
    "    os.makedirs(directory, exist_ok=True)"
   ]
  },
  {
   "cell_type": "markdown",
   "metadata": {},
   "source": [
    "# Downloading KuaiRec Dataset\n",
    "\n",
    "The code below downloads the KuaiRec dataset, extracts it and moves the data directory to the root folder <br>\n",
    "\n",
    "You can also manually download the dataset from this link: https://kuairec.com/"
   ]
  },
  {
   "cell_type": "code",
   "execution_count": null,
   "metadata": {},
   "outputs": [],
   "source": [
    "# Download the KuaiRec dataset\n",
    "file_id = \"1qe5hOSBxzIuxBb1G_Ih5X-O65QElollE\"\n",
    "\n",
    "print(\"Downloading KuaiRec dataset...\")\n",
    "!gdown \"https://drive.google.com/uc?id={file_id}\"\n",
    "\n",
    "print(\"\\nExtracting files...\")\n",
    "with zipfile.ZipFile(\"KuaiRec.zip\", 'r') as zip_ref:\n",
    "    zip_ref.extractall()\n",
    "\n",
    "print(\"Cleaning up...\")\n",
    "os.remove(\"KuaiRec.zip\")\n",
    "\n",
    "print(\"Download and extraction complete!\")"
   ]
  },
  {
   "cell_type": "code",
   "execution_count": null,
   "metadata": {},
   "outputs": [],
   "source": [
    "if os.path.exists('KuaiRec 2.0'):\n",
    "    # Move the data folder to current directory\n",
    "    print(\"Moving data folder to current directory...\")\n",
    "    try:\n",
    "        # If a data folder already exists in current directory, remove it first\n",
    "        if os.path.exists('data'):\n",
    "            shutil.rmtree('data')\n",
    "        \n",
    "        # Move the data folder\n",
    "        shutil.move('KuaiRec 2.0/data', '.')\n",
    "        \n",
    "        # Clean up by removing the empty KuaiRec 2.0 directory\n",
    "        shutil.rmtree('KuaiRec 2.0')\n",
    "        \n",
    "        print(\"Data folder successfully moved to current directory!\")\n",
    "    except Exception as e:\n",
    "        print(f\"An error occurred: {e}\")\n",
    "else:\n",
    "    print(\"'KuaiRec 2.0' directory not found. Please check if the extraction was successful.\")\n",
    "\n",
    "# Verify the contents of the current directory\n",
    "print(\"\\nContents of current directory:\")\n",
    "!ls"
   ]
  },
  {
   "cell_type": "markdown",
   "metadata": {},
   "source": [
    "# Translating Captions and Categories\n",
    "\n",
    "This section executes the code to translate the chinese fields in the dataset. The translation code is located in a Python file within the translation folder. To perform the translations, you'll need to run a local language model (we used Qwen2.5-14B) for processing certain text fields. Note that this step requires a GPU and can be time-intensive, so we have already provided the translated output in the `/data` directory as `kuairec_caption_category_translated.csv`."
   ]
  },
  {
   "cell_type": "code",
   "execution_count": null,
   "metadata": {},
   "outputs": [],
   "source": [
    "from translation.translation import main"
   ]
  },
  {
   "cell_type": "code",
   "execution_count": null,
   "metadata": {},
   "outputs": [],
   "source": [
    "main()"
   ]
  }
 ],
 "metadata": {
  "kernelspec": {
   "display_name": "Python 3",
   "language": "python",
   "name": "python3"
  },
  "language_info": {
   "codemirror_mode": {
    "name": "ipython",
    "version": 3
   },
   "file_extension": ".py",
   "mimetype": "text/x-python",
   "name": "python",
   "nbconvert_exporter": "python",
   "pygments_lexer": "ipython3",
   "version": "3.10.11"
  }
 },
 "nbformat": 4,
 "nbformat_minor": 2
}
